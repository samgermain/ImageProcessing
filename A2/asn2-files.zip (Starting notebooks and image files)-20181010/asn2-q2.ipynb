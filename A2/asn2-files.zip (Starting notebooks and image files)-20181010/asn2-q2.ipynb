{
 "cells": [
  {
   "cell_type": "markdown",
   "metadata": {
    "collapsed": true
   },
   "source": [
    "#Step 1: Blob detection\n",
    "\n",
    "The `lentil.png` image is a greyscale image from constructed from the red light and near infrared light channels of a multispectral camera.  (Thanks to Dr. Kirstin Bett, Dept. of Plant Sciences, College of Agriculture for the image!).  The bright blobs you see in the middle section of the image are clusters of lentil plants called plots (each plot is a different genetic lineage).  These are areas of interest for plant breeders because they want to analyze the patches of plant, while ignoring the background soil.  To do that in an automated algorithm, we first have to find the plots!\n",
    "\n",
    "Use one of the blob detection functions described at the end of the Topic 5 lecture slides to detect the blobs in the `lentil.png` image.  Obtain the best result you can from any one of the three available functions (in `skimage.feature`), namely `blob_log()`, `blob_dog()`, or `blob_doh()`.  Try the different functions and experiment with their parameters.   Don't worry too much about the correctness of the blobs at the very top and very bottom that are outside the area of the field trial.  These are not areas of interest.\n",
    "\n",
    "For your best result, draw the blobs as circles on the output image and display the result.    The last slide of Topic 5 gives you an example of some code that does this.  Sample output is shown in the assignment description document.\n",
    "\n",
    "Sample output is given in the assignment document but be aware that it is not necessarily representative of the quality of the blob detection that you might achieve because I did not spend more than 5 minutes tweaking the parameters.  You should be able to do at least as well, but possibly also better.  \n",
    "\n",
    "_Hint: as usual, it is suggested that you convert the image to dtype `float` before processing._\n",
    "\n",
    "_Hint: the image is pretty big, so you'll need to set the figure size to something larger.  For me `plt.figure(figsize=(20,7))` worked well, but I have an almost 4K display.  Smaller may work for you._\n",
    "\n",
    "\n"
   ]
  },
  {
   "cell_type": "code",
   "execution_count": 31,
   "metadata": {},
   "outputs": [],
   "source": [
    "import skimage.io as io\n",
    "import skimage.util as util\n",
    "import skimage.feature as feat\n",
    "import matplotlib.pyplot as plt\n",
    "\n",
    "# Write your code here.  It shouldn't take much.  Adapt the example on the last slide of the Topic 5 lecture notes.\n"
   ]
  },
  {
   "cell_type": "markdown",
   "metadata": {},
   "source": [
    "# Step 2:  Thinking and Analysis\n",
    "\n",
    "### Answer these questions, right here in this block.\n",
    "\n",
    "1.  What properties of the image did you consider when selecting parameters for blob detection?  \n",
    "\n",
    "\t_Your answer:_\n",
    "\n",
    "2.  What kinds of errors (in terms of detecting the plots) did you observe in the detected blobs?  \n",
    "\n",
    "\t_Your answer:_\n",
    "\n",
    "3.  How might you mitigate those errors as a post-processing step?\n",
    "\n",
    "\t_Your answer:_\n",
    "\n"
   ]
  },
  {
   "cell_type": "code",
   "execution_count": null,
   "metadata": {},
   "outputs": [],
   "source": []
  }
 ],
 "metadata": {
  "kernelspec": {
   "display_name": "Python 2",
   "language": "python",
   "name": "python2"
  },
  "language_info": {
   "codemirror_mode": {
    "name": "ipython",
    "version": 2
   },
   "file_extension": ".py",
   "mimetype": "text/x-python",
   "name": "python",
   "nbconvert_exporter": "python",
   "pygments_lexer": "ipython2",
   "version": "2.7.6"
  }
 },
 "nbformat": 4,
 "nbformat_minor": 0
}
