{
 "cells": [
  {
   "cell_type": "code",
   "execution_count": null,
   "metadata": {
    "collapsed": true
   },
   "outputs": [],
   "source": [
    "# Question 2"
   ]
  },
  {
   "cell_type": "code",
   "execution_count": null,
   "metadata": {},
   "outputs": [],
   "source": [
    "In this question we will:\n",
    "\n",
    "* Learn about different types of 2D plots\n",
    "\t* line plot\n",
    "\t* scatter plot\n",
    "\t* bar plot\n",
    "* Learn how to manipulate the appearance of plots.\n",
    "* Learn how to annotate plots\n",
    "\t* titles\n",
    "\t* axes limits\n",
    "\t* legends\n",
    "\t* line and point styles\n",
    "\n",
    "\n"
   ]
  },
  {
   "cell_type": "code",
   "execution_count": null,
   "metadata": {},
   "outputs": [],
   "source": [
    "**Line Plots**\n",
    "\n",
    "Line plots require a list of x coordinates, and a list of the corresponding y coordinates.  These lists are then provided to the `matplotlib.pyplot.plot()` function.  \n",
    "\n",
    "To try this out, we first need some data to plot.  For this we'll just generate some x and y coordinates for a sine wave.  This code is provided below. \n",
    "\n",
    "**To begin, follow the instructions in the code comments marked with TODO.**"
   ]
  },
  {
   "cell_type": "code",
   "execution_count": 2,
   "metadata": {},
   "outputs": [],
   "source": [
    "# Boilerplate imports\n",
    "%matplotlib inline  \n",
    "\n",
    "import skimage.io as io\n",
    "import matplotlib.pyplot as plt\n",
    "import numpy as np\n",
    "from math import pi\n",
    "\n",
    "# Make points for a sine wave.\n",
    "x = np.arange(0, 2*pi, step=0.01 )\n",
    "y = np.sin(4*x)\n",
    "\n",
    "# TODO Plot the sine wave using plt.plot().  Pass arguments\n",
    "# x and y.  If you've done this right, you should see four cycles of a\n",
    "# sine wave appear below this block."
   ]
  },
  {
   "cell_type": "code",
   "execution_count": null,
   "metadata": {},
   "outputs": [],
   "source": [
    "That's all you need to for basic plotting.  Of course the graph doesn't look that great, so we'll now have you investigate some other matplotlib functions to make it look more spiffy.   Complete the following steps in the code block below (make sure to run the above code block first!).  First, re-plot the graph above in a new figure, then do the following:\n",
    "\n",
    "1. Look up the `matplotlib.pyplot.title()` function.  Use it to add the title \"A 4Hz Sine Wave\" to the plot\n",
    "2. The sine wave butts up against the edges of the graph. Look up the `matplotlib.pyplot.ylim()` function and use it to set the y-axis to have a range between -1.1 and 1.1.  Also use `matplotlib.pyplot.xlim()` to set the x-axis to have a range betwen -pi/4 and 9pi/4.\n",
    "3. Calling `plot()` again with the same current axis will overlay the new plot on the old plot.  Call `plot()` again, using the existing x coordinates, and ``np.sin(7x)`` as the y-coodinate to plot a 7-Hz sine wave. \n",
    "4. Look up the `matplotlib.pyplot.plot()` function and find out what additional arguments you need to add to the plot function call in step 3 to have the new plot appear as a dashed red line.  Add these arguments to the existing call.\n",
    "5. Look up the plt.legend() function.  Use it to add a legend that labels the blue plot as \"4hz\" and the dashed red plot as \"7Hz\"."
   ]
  },
  {
   "cell_type": "code",
   "execution_count": null,
   "metadata": {},
   "outputs": [
    {
     "data": {
      "text/plain": [
       "<matplotlib.figure.Figure at 0x10233d278>"
      ]
     },
     "execution_count": 3,
     "metadata": {},
     "output_type": "execute_result"
    }
   ],
   "source": [
    "plt.figure()\n",
    "\n",
    "# TODO Replot the graph from above, then perform the numbered actions listed above."
   ]
  }
 ],
 "metadata": {
  "kernelspec": {
   "display_name": "Python 3",
   "language": "python",
   "name": "python3"
  },
  "language_info": {
   "codemirror_mode": {
    "name": "ipython",
    "version": 3
   },
   "file_extension": ".py",
   "mimetype": "text/x-python",
   "name": "python",
   "nbconvert_exporter": "python",
   "pygments_lexer": "ipython3",
   "version": "3.6.5"
  }
 },
 "nbformat": 4,
 "nbformat_minor": 1
}
