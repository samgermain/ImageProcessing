{
 "cells": [
  {
   "cell_type": "markdown",
   "metadata": {
    "collapsed": true
   },
   "source": [
    "# Step 1: Compute the texture descriptions for the training images.\n",
    "\n",
    "For each training image, calculate a vector of GLCM features.  Which GLCM features and the set of displacements you choose to you use are up to you (note that displacements for `skimage.feature.graycomatrix()` need to be specified by distances and angles in radians rather than change in x and y directions).  Experiment to obtain the best possible classification rate.  Use conservative choices to begin with until everything is working, then come back and experiemnt.  As described in the Topic 10 lecture notes, use `skimage.feature.graycomatrix()` and `skimage.feature.graycoprops()` to calculate GLCM features.  You'll probably want to use `normed=True` with `graycomatrix`.  Your GLCM features should be stored as a 120-row array by m-element array, (m will depend on how many different features and displacements you used and whether or not you combine values for different displacements or not, e.g., by taking their mean).  \n",
    "\n",
    "_Hint: Pay close attention to the format of the return values of  `graycomatrix()` and `graycoprops()`._\n",
    "\n",
    "Also, for each training image, calculate the rotationally invariant LBP features using `skiamge.feature.local_binary_pattern()`.  You can experiment with parameters `P` and `R` to get a good classification rate, but probably `P=8` and `R=1` are good enough.   For the `method` parameter, use `'uniform'` which gives you the LBP flavour we talked about in class.   Remember that `skiamge.feature.local_binary_pattern()` returns an \"LBP Image\", which is an image in which the pixel value is between 0 and 9, and corresponds to one of the ten possible pattern labels.  It's up to you to turn the \"LBP Image\" into a 10-bin histogram, which serves as the feature vector for that image (you can use `numpy.histogram` for this but again remember to specify `bins` and `range` parameters, and that it returns two things, and you only need the first one). \n",
    "\n",
    "Addionally, calculate the LBP variance feature again using `skimage.feature.local_binary_pattern()` but use `method='var'` instead.  This is the VAR feature we saw in class.  Use the same P and R as before.  Build a 16-bin histogram of the resulting 'LBP-VAR' image; use `range=(0,7000)` with `numpy.hisotgram()` (this is not quite \"correct\", but it's good enough).  Concatenate these with the rotationally invariant LBP features so that you have a 26-element feature vector for each training image.   These should be stored as a 120-row, 26-column array.\n",
    "\n",
    "You can do this all in one loop which builds both feature arrays.\n",
    "\n"
   ]
  },
  {
   "cell_type": "code",
   "execution_count": 7,
   "metadata": {},
   "outputs": [],
   "source": [
    "# Write your code here.\n",
    "\n",
    "import skimage.feature as feat\n",
    "import skimage.util as util\n",
    "import glob\n",
    "import skimage.io as io\n",
    "import numpy as np\n",
    "import os\n",
    "\n",
    "trn_images = [os.path.basename(x) for x in glob.glob('brodatztraining/*.png')]\n",
    "trn_images.sort()\n",
    "trn_feats = []\n",
    "lbp_trn = np.array([])\n",
    "for i in range(0, len(trn_images)):\n",
    "    B = util.img_as_ubyte(io.imread('brodatztraining/' + trn_images[i]))\n",
    "    gclms = feat.greycomatrix(B, [1], [0, np.pi/4, np.pi/2, 3*np.pi/4], normed=True)\n",
    "    #stats = []\n",
    "    #stats.append(feat.greycoprops(gclms, prop='energy'))\n",
    "    #stats.append(feat.greycoprops(gclms, prop='contrast'))\n",
    "    #stats.append(feat.greycoprops(gclms, prop='correlation'))\n",
    "    #stats.append(feat.greycoprops(gclms, prop='homogeneity'))\n",
    "    #trn_feats.append(stats)\n",
    "    trn_feats.append(feat.greycoprops(gclms, prop='energy'))\n",
    "    #trn_feats.append(feat.greycoprops(gclms, prop='contrast'))\n",
    "    lbp1 = feat.local_binary_pattern(B, 8, 1, method='uniform')\n",
    "    lbp2 = feat.local_binary_pattern(B, 8, 1, method='var')\n",
    "    lbp3 = np.concatenate((lbp1, lbp2))\n",
    "    hist, other_stuff = np.histogram(lbp1, bins=26, range=(0, 7000))\n",
    "    lbp_trn = np.concatenate((lbp_trn,hist))\n",
    "    #lbp3 = np.concatenate(lbp1,lbp2)\n",
    "    #lbp_trn.append(lbp3)\n",
    "#print(trn_feats.shape)\n",
    "trn_feats = np.transpose(np.asarray(trn_feats), (0,2,1))[:,:,0]\n",
    "#print(trn_feats.shape)\n",
    "lbp_trn = lbp_trn.reshape(-1, 1)"
   ]
  },
  {
   "cell_type": "markdown",
   "metadata": {},
   "source": [
    "# Step 2: Compute Test Image Features\n",
    "\n",
    "Compute the exact same features as you did in step 1 for each of the test images.  Store them in the same way (these arrays will just have more rows, specifically 320 rows, one for each testing sample). "
   ]
  },
  {
   "cell_type": "code",
   "execution_count": 8,
   "metadata": {},
   "outputs": [],
   "source": [
    "# Write your code here.  \n",
    "tst_images = [os.path.basename(x) for x in glob.glob('brodatztesting/*.png')]\n",
    "tst_images.sort()\n",
    "tst_feats = []\n",
    "lbp_tst = np.array([])\n",
    "for i in range(0, len(tst_images)):\n",
    "    B = util.img_as_ubyte(io.imread('brodatztesting/' + tst_images[i]))\n",
    "    gclms = feat.greycomatrix(B, [1], [0, np.pi/4, np.pi/2, 3*np.pi/4], normed=True)\n",
    "    #stats = []\n",
    "    #stats.append(feat.greycoprops(gclms, prop='energy'))\n",
    "    #stats.append(feat.greycoprops(gclms, prop='contrast'))\n",
    "    #stats.append(feat.greycoprops(gclms, prop='correlation'))\n",
    "    #stats.append(feat.greycoprops(gclms, prop='homogeneity'))\n",
    "    #tst_feats.append(stats)\n",
    "    tst_feats.append(feat.greycoprops(gclms, prop='energy'))\n",
    "    lbp1 = feat.local_binary_pattern(B, 8, 1, method='uniform')\n",
    "    lbp2 = feat.local_binary_pattern(B, 8, 1, method='var')\n",
    "    lbp3 = np.vstack((lbp1, lbp2)).T\n",
    "    hist, other_stuff = np.histogram(lbp1, bins=26, range=(0, 7000))\n",
    "    lbp_tst = np.concatenate((lbp_tst, hist))\n",
    "tst_feats = np.transpose(np.asarray(tst_feats), (0, 2, 1))[:, :, 0]\n",
    "#tst_feats = np.asarray(tst_feats)"
   ]
  },
  {
   "cell_type": "markdown",
   "metadata": {},
   "source": [
    "# Step 3: Generate Label Arrays for the Training and Testing Data\n",
    "\n",
    "Use labels 1 for the first class, label 2 for the second class, etc.   This should be easy to do since the filenames are ordered in blocks of 15 or 40 images of each class for training and testing respectively."
   ]
  },
  {
   "cell_type": "code",
   "execution_count": 9,
   "metadata": {},
   "outputs": [],
   "source": [
    "# Write your code for step 3 here.  \n",
    "\n",
    "trn_labels = np.zeros(len(trn_images))\n",
    "clazz = 1\n",
    "for i in range(0,len(trn_images)):\n",
    "    if (i%15 == 0):\n",
    "        clazz += 1\n",
    "    trn_labels[i] = clazz\n",
    "\n",
    "tst_labels = np.zeros(len(tst_images))\n",
    "clazz = 1\n",
    "for i in range(0,len(tst_images)):\n",
    "    if (i%40 == 0):\n",
    "        clazz += 1\n",
    "    tst_labels[i] = clazz"
   ]
  },
  {
   "cell_type": "markdown",
   "metadata": {},
   "source": [
    "# Step 4:  Train an KNN classifier.  \n",
    "\n",
    "Train an KNN  classifier using your GLCM features.  Train another one using your LBP features.\n",
    "\n"
   ]
  },
  {
   "cell_type": "code",
   "execution_count": 10,
   "metadata": {},
   "outputs": [
    {
     "data": {
      "text/plain": [
       "KNeighborsClassifier(algorithm='auto', leaf_size=30, metric='minkowski',\n",
       "           metric_params=None, n_jobs=None, n_neighbors=3, p=2,\n",
       "           weights='uniform')"
      ]
     },
     "execution_count": 10,
     "metadata": {},
     "output_type": "execute_result"
    }
   ],
   "source": [
    "import sklearn.neighbors as knn\n",
    "\n",
    "# Write your code here. This should be quite short.\n",
    "\n",
    "import sklearn.neighbors as neighbors\n",
    "neighbs = 3\n",
    "knn = neighbors.KNeighborsClassifier(n_neighbors=neighbs)\n",
    "lnn = neighbors.KNeighborsClassifier(n_neighbors=neighbs)\n",
    "#print(\"trn_feats: \", trn_feats.shape,\"trn_labels: \", trn_labels.shape)\n",
    "knn.fit(trn_feats, trn_labels)\n",
    "lnn.fit(trn_feats, trn_labels)"
   ]
  },
  {
   "cell_type": "markdown",
   "metadata": {},
   "source": [
    "# Step 4:  Predict the classes of the test images\n",
    "\n",
    "Predict the classes of the test images using both classifiers."
   ]
  },
  {
   "cell_type": "code",
   "execution_count": 11,
   "metadata": {},
   "outputs": [],
   "source": [
    "# Write your code here.  Again this should be quite short.\n",
    "predict_labels = knn.predict(tst_feats)\n",
    "lpredict_labels = lnn.predict(tst_feats)"
   ]
  },
  {
   "cell_type": "markdown",
   "metadata": {},
   "source": [
    "# Step 6:  Display Results\n",
    "\n",
    "Display results as in the final step of Question 1.  For each classifier display the image filenames that were incorrectly classified, the confisuion matrix, and the classification rate.  \n",
    "\n",
    "\n",
    "\n"
   ]
  },
  {
   "cell_type": "code",
   "execution_count": 13,
   "metadata": {},
   "outputs": [
    {
     "name": "stdout",
     "output_type": "stream",
     "text": [
      "Confusion Matrix for graycomatrix\n",
      " [[ 0.  0.  0.  0.  0.  0.  0.  0.  0.]\n",
      " [ 0.  1.  0.  1. 31.  2.  0.  1.  4.]\n",
      " [ 0.  0.  0.  0. 32.  6.  0.  0.  2.]\n",
      " [ 0.  0.  3.  0. 31.  0.  0.  4.  2.]\n",
      " [ 0.  0.  0.  2. 33.  2.  0.  2.  1.]\n",
      " [ 0.  0.  3.  6.  0.  0.  0. 31.  0.]\n",
      " [ 0.  4.  0.  1. 32.  1.  0.  0.  2.]\n",
      " [ 0.  0.  0.  3. 37.  0.  0.  0.  0.]\n",
      " [ 0.  0. 15.  2.  0.  0.  0. 20.  3.]]\n",
      "Classification rate for graycomatrix:  11.5625\n",
      "Confusion Matrix for local binary pattern\n",
      " [[ 0.  0.  0.  0.  0.  0.  0.  0.  0.]\n",
      " [ 0.  1.  0.  1. 31.  2.  0.  1.  4.]\n",
      " [ 0.  0.  0.  0. 32.  6.  0.  0.  2.]\n",
      " [ 0.  0.  3.  0. 31.  0.  0.  4.  2.]\n",
      " [ 0.  0.  0.  2. 33.  2.  0.  2.  1.]\n",
      " [ 0.  0.  3.  6.  0.  0.  0. 31.  0.]\n",
      " [ 0.  4.  0.  1. 32.  1.  0.  0.  2.]\n",
      " [ 0.  0.  0.  3. 37.  0.  0.  0.  0.]\n",
      " [ 0.  0. 15.  2.  0.  0.  0. 20.  3.]]\n",
      "Classification rate for local binary pattern:  11.5625\n"
     ]
    }
   ],
   "source": [
    "# Write your code here.\n",
    "confusion = np.zeros((clazz,clazz))\n",
    "for i in range(0, len(tst_labels)):\n",
    "    lt = int(tst_labels[i])\n",
    "    l = int(predict_labels[i])\n",
    "    confusion[lt-1, l-1] += 1\n",
    "\n",
    "print(\"Confusion Matrix for graycomatrix\\n\", confusion)\n",
    "\n",
    "print(\"Classification rate for graycomatrix: \", np.trace(confusion)/np.sum(confusion) * 100)\n",
    "\n",
    "confusion = np.zeros((clazz,clazz))\n",
    "for i in range(0, len(tst_labels)):\n",
    "    lt = int(tst_labels[i])\n",
    "    l = int(lpredict_labels[i])\n",
    "    confusion[lt-1, l-1] += 1\n",
    "\n",
    "print(\"Confusion Matrix for local binary pattern\\n\", confusion)\n",
    "\n",
    "print(\"Classification rate for local binary pattern: \", np.trace(confusion)/np.sum(confusion) * 100)"
   ]
  },
  {
   "cell_type": "markdown",
   "metadata": {},
   "source": [
    "# Step 7: Reflections\n",
    "\n",
    "Answer the following questions right here in this block:\n",
    "\n",
    "- Discuss the performance difference of the two different texture features.  Hypothesize reasons for observed differenes.\n",
    "\t\n",
    "\t_Your answer:_\n",
    "\n",
    "- For each of your two classifiers, discuss the misclassified images.  Were there any classes that were particularly difficult to distinguish?  Do the misclassified images (over all classes) have anything in common that would cause them to be misclassified?  If so what do they ahve in common, and why do you think it is confusing the classifier?\n",
    "\n",
    "\t_Your answer:_"
   ]
  },
  {
   "cell_type": "code",
   "execution_count": 53,
   "metadata": {},
   "outputs": [],
   "source": []
  },
  {
   "cell_type": "code",
   "execution_count": null,
   "metadata": {},
   "outputs": [],
   "source": []
  }
 ],
 "metadata": {
  "kernelspec": {
   "display_name": "Python 3",
   "language": "python",
   "name": "python3"
  },
  "language_info": {
   "codemirror_mode": {
    "name": "ipython",
    "version": 3
   },
   "file_extension": ".py",
   "mimetype": "text/x-python",
   "name": "python",
   "nbconvert_exporter": "python",
   "pygments_lexer": "ipython3",
   "version": "3.6.7"
  }
 },
 "nbformat": 4,
 "nbformat_minor": 1
}
