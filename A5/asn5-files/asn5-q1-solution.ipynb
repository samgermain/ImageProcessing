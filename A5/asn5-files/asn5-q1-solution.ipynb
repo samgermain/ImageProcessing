{
 "cells": [
  {
   "cell_type": "markdown",
   "metadata": {
    "collapsed": true
   },
   "source": [
    "# Step 1:  Implement the Histogram of Curvature Scale\n",
    "\n",
    "Write a function called HoCS that returns a histogram of curvature scale feature vector for a given region.  The inputs to your function should be:\n",
    "\n",
    "- `B`: a binary that contains exactly one foreground connected component.\n",
    "- `min_scale`: The samllest scale (circle radius) at which to calcluate curvature\n",
    "- `max_scale`: The largest scale (circle radius) at which to calculate curvature\n",
    "- `increment`: The increment at which intermediate curvatures should be calculated (must be a positive integer)\n",
    "- `num_bins`: The number of bins in the histogram of curvature for a single scale (must be a positive integer)\n",
    "\n",
    "Your function should compute a histogram of curvature for each scale, starting at `min_scale` ending at (at most) `max_scale`, and for intermediate scales at increments of `increment`.  For example, if `min_scale`=4 and `max_scale`=20, and `increment`=3, then the function should compute a histogram of curvature for scales 4, 7, 10, 13, 16, and 19.  Each histogram at each scale should have `num_bins` bins.  Curvature must be computed using the normalized area integral invariant method described on Slide 39 of the Topic 9 lecture notes.  \n",
    "\n",
    "Normalize each histogram at each scale.\n",
    "\n",
    "To keep things straightforward, your functions hould only consider the outer perimeter of the input region; ignore the boundaries of holes in the region.\n",
    "\n",
    "After computing the histogram of curvature at each of the specified scales, all of the histograms should be concatenated into a single one-dimensional array (feature vector) and then returned.\n",
    "\n",
    "_Implementation hint:  You can calculate the normalized area integral invariant of each pixel efficiently using linear filtering.  You will find the function `skimage.morphology.disk()` function useful for designing the appropriate filter masks._\n",
    "\n",
    "_Implementation hint:  Most of the heavy lifting here can be done with module functions from `skimage`, `numpy`, and `scipy`.  Many of the functions mentioned in class and in the notes will be useful.  One that we might not have covered, but will be very handy is `numpy.histogram()`.  When use use it, makes sure you specify both the `bins` and `range` optional arguments.  Also note that `numpy.histogram()` returns TWO things.  You only need the first one, so make sure you write your function call like this:_\n",
    "\n",
    "`the_histogram, stuff_you_dont_need = np.histogram(...)`\n",
    "\n"
   ]
  },
  {
   "cell_type": "code",
   "execution_count": 1,
   "metadata": {},
   "outputs": [],
   "source": [
    "import scipy.ndimage as nd\n",
    "import skimage.segmentation as seg\n",
    "import numpy as np\n",
    "import matplotlib.pyplot as plt\n",
    "import skimage.morphology as morph\n",
    "import skimage.util as util\n",
    "import skimage.transform as trans\n",
    "\n",
    "%matplotlib inline\n",
    "\n",
    "def HoCS(B, min_scale, max_scale, increment, num_bins):\n",
    "    '''\n",
    "    Computes a histogram of curvature scale for the shape in the binary image B.  \n",
    "    Boundary fragments due to holes are ignored.\n",
    "    :param B: A binary image consisting of a single foreground connected component.\n",
    "    :param min_scale: smallest scale to consider (minimum 1)\n",
    "    :param max_scale: largest scale to consider (max_scale > min_scale)\n",
    "    :param increment:  increment on which to compute scales between min_scale and max_scale\n",
    "    :param num_bins: number of bins for the histogram at each scale\n",
    "    :return: 1D array of histograms concatenated together in order of increasing scale.\n",
    "    \n",
    "    Note: a curvature values are between 0.0 and 1.0 are interpreted thusly:\n",
    "       0.0 - values close to 0 arise from highly convex points.\n",
    "       0.5 - no curvature\n",
    "       1.0 - values close to 1 arise from highly concave points.\n",
    "\n",
    "    This solution uses the Area Integeral Invariant from:\n",
    "\n",
    "    Siddharth Manay, Daniel Cremers, Byung-Woo Hong, Anthony J. Yezzi and Stefano\n",
    "    Soatto.  Integral Invariants for Shape Matching, IEEE Transactions on Pattern\n",
    "    Analysis and Machine Intelligence, Vol 28, No. 10, pp. 1602-1618, 2006.\n",
    " \n",
    "    And combines it with the curvature scale histogramming technique used in:\n",
    "\n",
    "    Neeraj Kumar, Peter N. Belhumeur, Arijit Biswas, David W. Jacobs, W. John Kress,\n",
    "    Ida Lopez, João V. B. Soares.  Leafsnap: A Computer Vision System for Automatic\n",
    "    Plant Species Identification, Proceedings of the 12th European Conference on\n",
    "    Computer Vision (ECCV), 2012.\n",
    "    '''\n",
    "    \n",
    "    # Check input validity\n",
    "    if max_scale < min_scale:\n",
    "        raise ValueError('max_scale must be larger than min_scale')\n",
    "    \n",
    "    if num_bins < 1:\n",
    "        raise ValueError('num_bins must be >= 1')\n",
    "    \n",
    "    # Assume B has only one connected component\n",
    "    b_holes_filled = nd.binary_fill_holes(B)\n",
    "    \n",
    "    # Get the locations boundary points using the method on slide 71 of Topic 06.\n",
    "    bp = np.where(seg.find_boundaries(b_holes_filled, connectivity=1, mode='inner') > 0)\n",
    "    bp = np.transpose(np.vstack(bp))\n",
    "    \n",
    "    # iterate over scales\n",
    "    histograms = []\n",
    "    for radius in np.arange(min_scale, max_scale+1, increment):\n",
    "\n",
    "        # Construct linear filter for calculating area integral invariant.\n",
    "        # divide disk mask by number of 1-entries, this will respond as the \n",
    "        # percentage of 1-entries that are covering the foreground region \n",
    "        # at each pixel.\n",
    "        disk = morph.disk(radius) \n",
    "        disk = disk / np.sum(disk)\n",
    "        \n",
    "        # Filter the input image -- gotta convert it to float first or the output will be boolean\n",
    "        # (which is bad because all our filter responses would get rounded to zero).\n",
    "        c = nd.filters.convolve(util.img_as_float(b_holes_filled), disk)\n",
    "            \n",
    "        # extract the filter response for boundary pixels only.\n",
    "        curvatures= c[bp[:,0], bp[:,1]]\n",
    "        \n",
    "        # Get the histogram of the curvatures extracted and append to the list of histograms for each scale.\n",
    "        h, bin_edges = np.histogram(curvatures, bins=num_bins, range=(0.0,1.0))\n",
    "        histograms.append(h / len(curvatures))\n",
    "        \n",
    "    # Horizontally concatenate all the histograms and return the resulting array.\n",
    "    return np.hstack(histograms)\n",
    "\n",
    "        \n",
    "\n",
    "        \n",
    "    "
   ]
  },
  {
   "cell_type": "markdown",
   "metadata": {},
   "source": [
    "# Step 2: Test your HoCS function.\n",
    "\n",
    "Run HoCS on `threshimage_0001.png` from the ground truth for assignment 3.  Use `min_scale=5`, `max_scale=25`, `increment=10`, `num_bins=10`.  Plot the resulting feature vector as a bar graph.  Set the y-axis limits to be between 0.0 and 1.0.  You should get a result that matches the sample output in the assignment description.\n"
   ]
  },
  {
   "cell_type": "code",
   "execution_count": 7,
   "metadata": {},
   "outputs": [
    {
     "name": "stderr",
     "output_type": "stream",
     "text": [
      "/Library/Frameworks/Python.framework/Versions/3.6/lib/python3.6/site-packages/skimage/util/dtype.py:135: UserWarning: Possible precision loss when converting from uint8 to bool\n",
      "  .format(dtypeobj_in, dtypeobj_out))\n"
     ]
    },
    {
     "data": {
      "text/plain": [
       "(0, 1)"
      ]
     },
     "execution_count": 7,
     "metadata": {},
     "output_type": "execute_result"
    },
    {
     "data": {
      "image/png": "[encoded data removed]",
      "text/plain": [
       "<Figure size 432x288 with 1 Axes>"
      ]
     },
     "metadata": {
      "needs_background": "light"
     },
     "output_type": "display_data"
    }
   ],
   "source": [
    "import skimage.io as io\n",
    "\n",
    "min_scale=5\n",
    "max_scale=25\n",
    "increment=10\n",
    "num_bins=10\n",
    "\n",
    "B = util.img_as_bool(io.imread('leaftraining/threshimage_0001.png'))\n",
    "\n",
    "feature = HoCS(B, min_scale, max_scale, increment, num_bins)\n",
    "\n",
    "plt.bar(range(len(feature)), feature)\n",
    "plt.ylim((0,1))\n"
   ]
  },
  {
   "cell_type": "markdown",
   "metadata": {},
   "source": [
    "# Step 3: Calculate training features.\n",
    "\n",
    "Use your function from Step 1 to compute the HoCS feature for each of the training images.  Use them to train a k-nearest neigbour classifier.  It is up to you to determine the parameters for the HoCS feature such as `min_scale`, `max_scale`, etc. to maximize the classification rate.  This will require some experimentation.  Slides 19-12 of Topic 12 lecture notes will be helpful here."
   ]
  },
  {
   "cell_type": "code",
   "execution_count": 8,
   "metadata": {},
   "outputs": [
    {
     "name": "stdout",
     "output_type": "stream",
     "text": [
      "Calculating features for threshimage_0160.png\n",
      "Calculating features for threshimage_0174.png\n",
      "Calculating features for threshimage_0175.png\n",
      "Calculating features for threshimage_0161.png\n",
      "Calculating features for threshimage_0001.png\n",
      "Calculating features for threshimage_0015.png\n",
      "Calculating features for threshimage_0163.png\n",
      "Calculating features for threshimage_0162.png\n",
      "Calculating features for threshimage_0002.png\n",
      "Calculating features for threshimage_0166.png\n",
      "Calculating features for threshimage_0007.png\n",
      "Calculating features for threshimage_0011.png\n",
      "Calculating features for threshimage_0005.png\n",
      "Calculating features for threshimage_0165.png\n",
      "Calculating features for threshimage_0171.png\n",
      "Calculating features for threshimage_0010.png\n",
      "Calculating features for threshimage_0089.png\n",
      "Calculating features for threshimage_0100.png\n",
      "Calculating features for threshimage_0105.png\n",
      "Calculating features for threshimage_0104.png\n",
      "Calculating features for threshimage_0110.png\n",
      "Calculating features for threshimage_0099.png\n",
      "Calculating features for threshimage_0113.png\n",
      "Calculating features for threshimage_0080.png\n",
      "Calculating features for threshimage_0078.png\n",
      "Calculating features for threshimage_0090.png\n",
      "Calculating features for threshimage_0132.png\n",
      "Calculating features for threshimage_0009.png\n",
      "Calculating features for threshimage_0018.png\n",
      "Calculating features for threshimage_0019.png\n"
     ]
    }
   ],
   "source": [
    "import os as os\n",
    "\n",
    "# Create a class label vector for the training images.\n",
    "labels = np.ones(10, dtype='int')\n",
    "training_labels = np.hstack( (labels, labels*2, labels *3) )\n",
    "\n",
    "min_scale=5\n",
    "max_scale=30\n",
    "increment=5\n",
    "num_bins=15\n",
    "\n",
    "# Calculate the feature vectors for the training images\n",
    "training = []\n",
    "for root, dirs, files in os.walk('./leaftraining'):\n",
    "    for f in files:\n",
    "        if f[-4:] == '.png':\n",
    "            print('Calculating features for', f)\n",
    "            B = io.imread(os.path.join(root, f))\n",
    "            features = HoCS(B, min_scale, max_scale, increment, num_bins)\n",
    "            training.append(features)\n",
    "            \n",
    "training = np.vstack(training)\n",
    "\n",
    "\n",
    "\n",
    "\n",
    "\n",
    "\n",
    "\n",
    "            \n"
   ]
  },
  {
   "cell_type": "markdown",
   "metadata": {},
   "source": [
    "# Step 4: Train the KNN classifier using the feature vectors from the training images.\n",
    "\n",
    "You have another opportunity here to optimize parameters.  You can experiment with the options for the KNN classifier (in partiuclar n_neighbors) to try to obtain better classification rates.  But you won't really be able to do this until after step 6, so just use default parameters to start with. \n",
    "\n",
    "Hint: The steps in this notebook are broken up the way they are so that you can adjust the parameters of training tye classifier and then go and perform the classfication without having to re-run the calculation of the features in steps 3 and 5.  You can adjust the parameters here in step 4, and then go and re-run the test set in Step 6 without running step 5 over again -- which is good because step 5 will take a while to run.  Of course you will have to recalculate the features each time you restart PyCharm or the Jupyter Notebook server."
   ]
  },
  {
   "cell_type": "code",
   "execution_count": 12,
   "metadata": {},
   "outputs": [
    {
     "data": {
      "text/plain": [
       "KNeighborsClassifier(algorithm='auto', leaf_size=30, metric='minkowski',\n",
       "           metric_params=None, n_jobs=None, n_neighbors=1, p=2,\n",
       "           weights='uniform')"
      ]
     },
     "execution_count": 12,
     "metadata": {},
     "output_type": "execute_result"
    }
   ],
   "source": [
    "# Train the KNN classifier\n",
    "import sklearn.neighbors as neigh\n",
    "\n",
    "KNN = neigh.KNeighborsClassifier(n_neighbors=1)\n",
    "KNN.fit(training, training_labels)\n"
   ]
  },
  {
   "cell_type": "markdown",
   "metadata": {},
   "source": [
    "# Step 5: Calculate the testing features.\n",
    "\n",
    "Compute the HoCS features for all of the testing images.  Use the same HoCS parameters you did in Step 3."
   ]
  },
  {
   "cell_type": "code",
   "execution_count": null,
   "metadata": {},
   "outputs": [
    {
     "name": "stdout",
     "output_type": "stream",
     "text": [
      "Calculating features for image_0185.png\n",
      "Calculating features for image_0152.png\n",
      "Calculating features for image_0146.png\n",
      "Calculating features for image_0026.png\n",
      "Calculating features for image_0033.png\n",
      "Calculating features for image_0027.png\n",
      "Calculating features for image_0147.png\n",
      "Calculating features for image_0153.png\n",
      "Calculating features for image_0184.png\n",
      "Calculating features for image_0186.png\n",
      "Calculating features for image_0179.png\n",
      "Calculating features for image_0145.png\n",
      "Calculating features for image_0151.png\n",
      "Calculating features for image_0031.png\n",
      "Calculating features for image_0025.png\n",
      "Calculating features for image_0024.png\n",
      "Calculating features for image_0030.png\n",
      "Calculating features for image_0150.png\n",
      "Calculating features for image_0144.png\n",
      "Calculating features for image_0178.png\n",
      "Calculating features for image_0140.png\n",
      "Calculating features for image_0154.png\n",
      "Calculating features for image_0168.png\n",
      "Calculating features for image_0034.png\n",
      "Calculating features for image_0020.png\n",
      "Calculating features for image_0009.png\n",
      "Calculating features for image_0021.png\n",
      "Calculating features for image_0035.png\n",
      "Calculating features for image_0155.png\n",
      "Calculating features for image_0141.png\n"
     ]
    }
   ],
   "source": [
    "# Create a class label vector for the testing images.\n",
    "labels1 = np.ones(50, dtype='int')\n",
    "labels2 = np.ones(27, dtype='int')\n",
    "labels3 = np.ones(52, dtype='int')\n",
    "\n",
    "testing_labels = np.hstack( (labels1, labels2*2, labels3*3) )\n",
    "\n",
    "# Calculate the feature vectors for the testing images\n",
    "testing = []\n",
    "for root, dirs, files in os.walk('./leaftesting'):\n",
    "    for f in files:\n",
    "        if f[-4:] == '.png':\n",
    "            print('Calculating features for', f)\n",
    "            B = io.imread(os.path.join(root, f))\n",
    "            features = HoCS(B, min_scale, max_scale, increment, num_bins)\n",
    "            testing.append(features)\n",
    "            \n",
    "testing = np.vstack(testing)"
   ]
  },
  {
   "cell_type": "markdown",
   "metadata": {},
   "source": [
    "# Step 6: Classfiy the testing features.\n",
    "\n",
    "Classify the training features.\n",
    "\n",
    "Determine the classification rate and the confusion matrix by comparing the results of the classifier to the true class labels for each image.  \n",
    "\n",
    "Print out the filenames of incorrectly classified images.\n",
    "\n",
    "Print the confusion matrix (you don't have to print the row/column indicies as in the example in the assignment description), just the rows and columns of the matrix itself.   Confusion matrix is explained in the background section of the assignment description document.\n",
    "\n",
    "Print the correct classification rate.  Classification rate is explained in the Topic 12 notes and in the background section of the assignment description document.\n",
    "\n",
    "It should be very easy to get a classficiation rate more than 90%; with well-chosen parameters for your HoCS features and the KNN classifier you should be able to get as much as 95%."
   ]
  },
  {
   "cell_type": "code",
   "execution_count": 9,
   "metadata": {},
   "outputs": [
    {
     "ename": "NameError",
     "evalue": "name 'KNN' is not defined",
     "traceback": [
      "\u001b[0;31m---------------------------------------------------------------------------\u001b[0m",
      "\u001b[0;31mNameError\u001b[0m                                 Traceback (most recent call last)",
      "\u001b[0;32m<ipython-input-9-5a41288b01bf>\u001b[0m in \u001b[0;36m<module>\u001b[0;34m\u001b[0m\n\u001b[0;32m----> 1\u001b[0;31m \u001b[0mpredictions\u001b[0m \u001b[0;34m=\u001b[0m \u001b[0mKNN\u001b[0m\u001b[0;34m.\u001b[0m\u001b[0mpredict\u001b[0m\u001b[0;34m(\u001b[0m\u001b[0mtesting\u001b[0m\u001b[0;34m)\u001b[0m\u001b[0;34m\u001b[0m\u001b[0;34m\u001b[0m\u001b[0m\n\u001b[0m\u001b[1;32m      2\u001b[0m \u001b[0;34m\u001b[0m\u001b[0m\n\u001b[1;32m      3\u001b[0m \u001b[0;31m# Construct a boolean array that denotes which images were correctly classified.\u001b[0m\u001b[0;34m\u001b[0m\u001b[0;34m\u001b[0m\u001b[0;34m\u001b[0m\u001b[0m\n\u001b[1;32m      4\u001b[0m \u001b[0mcorrect_labels\u001b[0m \u001b[0;34m=\u001b[0m \u001b[0mpredictions\u001b[0m\u001b[0;34m==\u001b[0m\u001b[0mtesting_labels\u001b[0m\u001b[0;34m\u001b[0m\u001b[0;34m\u001b[0m\u001b[0m\n\u001b[1;32m      5\u001b[0m \u001b[0;34m\u001b[0m\u001b[0m\n",
      "\u001b[0;31mNameError\u001b[0m: name 'KNN' is not defined"
     ],
     "output_type": "error"
    }
   ],
   "source": [
    "predictions = KNN.predict(testing)\n",
    "\n",
    "# Construct a boolean array that denotes which images were correctly classified.\n",
    "correct_labels = predictions==testing_labels\n",
    "\n",
    "# obtain the filenames of images that were incorrectly classified.\n",
    "incorrectly_classified = [ files[i] for i in range(len(files)) if not correct_labels[i] ]\n",
    "\n",
    "# Print out the names of incorrectly classified images.\n",
    "for f in incorrectly_classified:\n",
    "    print(f, 'was incorrectly classified.')\n",
    "print()  \n",
    "    \n",
    "# Compute and print out the confusion matrix.\n",
    "confusion = np.zeros((3, 3), dtype='int')\n",
    "\n",
    "for i in range(len(predictions)):\n",
    "    confusion[testing_labels[i]-1, predictions[i]-1] += 1\n",
    "    \n",
    "print('The confusion matrix is:')\n",
    "for x in confusion:\n",
    "    print('{:5}, {:5}, {:5}'.format(x[0], x[1], x[2]))\n",
    "print()\n",
    "\n",
    "# Compute and print out the classification rate.\n",
    "correct_rate = np.sum(correct_labels) / len(predictions)\n",
    "print('The classification rate was', correct_rate*100, 'percent.')\n",
    "\n",
    "\n"
   ]
  },
  {
   "cell_type": "markdown",
   "metadata": {},
   "source": [
    "# Step 7: Reflections\n",
    "\n",
    "Answer the following questions right here in this block:\n",
    "\n",
    "- Discuss your HoCS parameters and how you arrived at them.  Why did you choose the scales and number of histogram bins that you did?  Are there other values that work just as well?   Likely you tested other HoCS parameters that resulted in worse performance before finding the ones that worked best -- what were some of them and why do you think the performance was worse?\n",
    "\n",
    "\t_Your answer:_\n",
    "\n",
    "- Discuss your choice of KNN classifier parameters and how you arrived at them (think about the same types of questions as in the previous point).\n",
    "\n",
    "\t_Your answer:_\n",
    "\n",
    "- Discuss the misclassified images.  Were there any classes that were particularly difficult to distinguish?  Is there anything unusual about any of the misclassified images that would cuase them to be misclassified?  If so, explain\n",
    "\n",
    "\t_Your answer:_\n"
   ]
  },
  {
   "cell_type": "code",
   "execution_count": null,
   "metadata": {},
   "outputs": [],
   "source": []
  }
 ],
 "metadata": {
  "kernelspec": {
   "display_name": "Python 3",
   "language": "python",
   "name": "python3"
  },
  "language_info": {
   "codemirror_mode": {
    "name": "ipython",
    "version": 3
   },
   "file_extension": ".py",
   "mimetype": "text/x-python",
   "name": "python",
   "nbconvert_exporter": "python",
   "pygments_lexer": "ipython3",
   "version": "3.6.7"
  }
 },
 "nbformat": 4,
 "nbformat_minor": 1
}
