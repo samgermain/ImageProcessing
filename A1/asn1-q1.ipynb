{
 "cells": [
  {
   "cell_type": "markdown",
   "metadata": {
    "collapsed": true
   },
   "source": [
    "# Step 1: Implement the vector median filter for colour images.\n",
    "\n",
    "Write a function that implements the vector median filter.  Details on the vector median filter can be found in Topic 4 of the lecture notes and implementation hints are available in the assignment description PDF.   \n",
    "\n",
    "The parameters to your function should be the input image `I`, and the `radius` of the square neighbourhood, e.g. radius 1 = 3x3 filter, radius 2 = 5x5 filter, etc.\n",
    "\n",
    "Your function should accept images of dtype `uint8` or `float`.    It is easiest if you work with the image as data type `float`.   If the input image is of type `uint8`, it is suggested that you convert it to dtype `float`, construct the output image also as type `float` and then convert it back to `uint8` before returning it.  In any case, the output image returned should be the same dtype as the input image."
   ]
  },
  {
   "cell_type": "code",
   "execution_count": 1,
   "metadata": {
    "collapsed": true
   },
   "outputs": [],
   "source": [
    "#radius 1 = 3x3 filter, radius 2 = 5x5 filter\n",
    "#tile transpose and reshape can eliminate the need for loops\n",
    "def vector_median(float I, int radius):\n",
    "    \n",
    "    \n",
    "    \n",
    "    return"
   ]
  },
  {
   "cell_type": "markdown",
   "metadata": {},
   "source": [
    "# Step 2: Establish a Baseline\n",
    "\n",
    "Determine the PSNR and SSIM of all of the noisy images by comparing them to their noiseless versions -- store these in a list. \n",
    "\n",
    "Filter each noisy image with a 3x3 vector median filter and compute the PSNR and SSIM of all of the filtered noisy images (by comparing them to the noiseless images) -- store these in a list.  \n",
    "\n",
    "The noiseless images are provided so you can compute PSNR and SSIM.  See functions `skimage.measure.compare_psnr()` and `skimage.measure.compare_ssim()`.  You'll need the `multichannel=true` argument for `compare_ssim()`.\n",
    "\n",
    "_Hint: This step requires doing a few seemingly different things, but it's actually easier to do them all at once in the same loop._\n"
   ]
  },
  {
   "cell_type": "code",
   "execution_count": 2,
   "metadata": {
    "collapsed": true
   },
   "outputs": [],
   "source": [
    "# Some modules you might need.\n",
    "\n",
    "import skimage.io as io\n",
    "import os as os\n",
    "import skimage.filters as filt\n",
    "import skimage.measure as meas\n",
    "import skimage.util as util\n",
    "import numpy as np\n",
    "\n",
    "%matplotlib inline\n",
    "\n",
    "\n",
    "# For every file in the noisy images folder...\n",
    "for root, dirs, files in os.walk('images/noisy-test'):\n",
    "    for filename in files:\n",
    "        \n",
    "        # construct the full filename\n",
    "        fname = os.path.join(root, filename)\n",
    "        \n",
    "        # In case these metadata files show up in the folders, ignore them.\n",
    "        if filename == '.DS_Store':   \n",
    "            continue\n",
    "        \n",
    "        # Process image noisy file 'fname' here.  The images have the same filenames name in the \n",
    "        # noisy, noisy-test, and noiseless folders.  You'll have to construct the path to the\n",
    "        # noiseless images yourself.  It's easy using os.path.join(), as above."
   ]
  },
  {
   "cell_type": "markdown",
   "metadata": {},
   "source": [
    "# Step 2: Compute average baseline metrics.\n",
    "\n",
    "Compute the average PSNR and SSIM for the unfiltered noisy images (take the PSNR and SSIM measures for each image and average them).  Do the same for the median-filtered noisy images.  Plot a bar graph showing the two mean PSNR values and another showing the two mean SSIM values before and after filtering (see assignment description for sample output)."
   ]
  },
  {
   "cell_type": "code",
   "execution_count": 3,
   "metadata": {
    "collapsed": true
   },
   "outputs": [],
   "source": [
    "# some modules you might need.\n",
    "\n",
    "import matplotlib.pyplot as plt\n",
    "import numpy as np"
   ]
  },
  {
   "cell_type": "markdown",
   "metadata": {},
   "source": [
    "# Step 3:  See if you can do better!\n",
    "\n",
    "Find a better way to denoise the images.  Compute the mean PSNR and SSIM for your denoising method.   Replot the graphs in the previous step with the new results added.\n",
    "\n",
    "_You can use any functions in the python libraries to help you (numpy, scipy, skimage, etc.) but you cannot bring in code from external sources._\n"
   ]
  },
  {
   "cell_type": "code",
   "execution_count": 4,
   "metadata": {},
   "outputs": [],
   "source": [
    "# Write your de-noising method here."
   ]
  }
 ],
 "metadata": {
  "kernelspec": {
   "display_name": "Python 3",
   "language": "python",
   "name": "python3"
  },
  "language_info": {
   "codemirror_mode": {
    "name": "ipython",
    "version": 3
   },
   "file_extension": ".py",
   "mimetype": "text/x-python",
   "name": "python",
   "nbconvert_exporter": "python",
   "pygments_lexer": "ipython3",
   "version": "3.6.1"
  }
 },
 "nbformat": 4,
 "nbformat_minor": 1
}
