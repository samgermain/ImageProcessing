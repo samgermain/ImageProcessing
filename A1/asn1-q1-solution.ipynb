{
 "cells": [
  {
   "cell_type": "markdown",
   "metadata": {
    "collapsed": true
   },
   "source": [
    "# Step 1: Implement the vector median filter for colour images.\n",
    "\n",
    "Write a function that implements the vector median filter.  Details on the vector median filter can be found in Topic 4 of the lecture notes.   \n",
    "\n",
    "The parameters to your function should be the input image `I`, and the `radius` of the square neighbourhood, e.g. radius 1 = 3x3 filter, radius 2 = 5x5 filter, etc.\n",
    "\n",
    "Your function should accept images of dtype `uint8` or `float`.    It is easiest if you work with the image as data type `float`.   If the input image is of type `uint8`, it is suggested that you convert it to dtype `float`, construct the output image also as type `float` and then convert it back to `uint8` before returning it.  In any case, the output image returned should be the same dtype as the input image."
   ]
  },
  {
   "cell_type": "code",
   "execution_count": 1,
   "metadata": {},
   "outputs": [],
   "source": [
    "def vector_median(I, radius):\n",
    "    convert_output_to_ubyte = False\n",
    "\n",
    "    # Pre-allocate the output array\n",
    "    if I.dtype == np.uint8:\n",
    "        I = util.img_as_float(I)\n",
    "        convert_output_to_ubyte = True\n",
    "\n",
    "    VMF = np.zeros_like(I)\n",
    "\n",
    "    # Pad the input array\n",
    "    I = np.pad(I, ((radius, radius), (radius, radius), (0, 0)), 'edge')\n",
    "    wso = 2 * radius\n",
    "\n",
    "    for r in range(VMF.shape[0]):\n",
    "        for c in range(VMF.shape[1]):\n",
    "            # extract vectors from image patch\n",
    "            vectors = I[r:r + wso + 1, c:c + wso + 1, :]\n",
    "            vectors = np.reshape(vectors, (pow(2 * radius + 1, 2), 3))\n",
    "            \n",
    "            # np. broadcast_to() is just a lower-level version of np.tile().  I was trying to\n",
    "            # squeeze out more speed.  Using tile() instead is fine.\n",
    "            Y = np.broadcast_to(vectors[:, :, np.newaxis],\n",
    "                                            (vectors.shape[0], vectors.shape[1], vectors.shape[0]))\n",
    "            X = np.transpose(np.expand_dims(vectors, axis=2), (2, 1, 0))\n",
    "            X = np.broadcast_to(X, (vectors.shape[0], X.shape[1], X.shape[2]))\n",
    "            \n",
    "            # Get the manhattan distances.\n",
    "            sqdif = np.abs(Y - X)\n",
    "            \n",
    "            # Sum them over the first two dimensions.\n",
    "            vsums = np.sum(sqdif, axis=(0,1), keepdims=True)\n",
    "\n",
    "            # Get the index of the minimum sum of distances.\n",
    "            idx = np.argmin(vsums)\n",
    "            \n",
    "            # Copy the idx-th color in the neighbourhood to the output image.\n",
    "            VMF[r, c, :] = vectors[idx, :]\n",
    "\n",
    "    if convert_output_to_ubyte:\n",
    "        VMF = util.img_as_ubyte(VMF)\n",
    "    return VMF"
   ]
  },
  {
   "cell_type": "markdown",
   "metadata": {},
   "source": [
    "# Step 2: Establish a Baseline\n",
    "\n",
    "Determine the PSNR and SSIM of all of the noisy images by comparing them to their noiseless versions -- store these in a list. \n",
    "\n",
    "Filter each noisy image with a 3x3 vector median filter and compute the PSNR and SSIM of all of the filtered noisy images (by comparing them to the noiseless images) -- store these in a list.  \n",
    "\n",
    "The noiseless images are provided so you can compute PSNR and SSIM.  See functions `skimage.measure.compare_psnr()` and `skimage.measure.compare_ssim()`.  You'll need the `multichannel=true` argument for `compare_ssim()`.\n",
    "\n",
    "_Hint: This step requires doing a few seemingly different things, but it's actually easier to do them all at once in the same loop._\n",
    "\n",
    "_Hint: To median filter a colour image, you can filter each channel separately._"
   ]
  },
  {
   "cell_type": "code",
   "execution_count": 17,
   "metadata": {
    "collapsed": true
   },
   "outputs": [
    {
     "name": "stderr",
     "output_type": "stream",
     "text": [
      "/Users/mark/anaconda/lib/python3.6/site-packages/skimage/util/dtype.py:122: UserWarning: Possible precision loss when converting from float64 to uint8\n  .format(dtypeobj_in, dtypeobj_out))\n"
     ]
    }
   ],
   "source": [
    "import skimage.io as io\n",
    "import os as os\n",
    "import skimage.filters as filt\n",
    "import skimage.measure as meas\n",
    "import skimage.util as util\n",
    "import numpy as np\n",
    "\n",
    "%matplotlib inline\n",
    "\n",
    "PSNR_noisy = []\n",
    "SSIM_noisy = []\n",
    "PSNR_median_filtered = []\n",
    "SSIM_median_filtered = []\n",
    "\n",
    "# For every file in the noisy images folder...\n",
    "for root, dirs, files in os.walk('asn1/solution/images/noisy-test'):\n",
    "    for filename in files:\n",
    "        \n",
    "        # construct the full filename\n",
    "        fname = os.path.join(root, filename)\n",
    "        if filename == '.DS_Store':\n",
    "            continue\n",
    "        \n",
    "        # Process image file 'fname' here.  Start by loading the images\n",
    "        noisy = io.imread(fname)\n",
    "        noiseless = io.imread(os.path.join('asn1/solution/images/noiseless', filename))\n",
    "        \n",
    "        # Median filter the image, one channel at a time.\n",
    "        median_filtered = vector_median(noisy, 1)\n",
    "                \n",
    "        # Compute PSNR and SSIM for the original noisy image, append to list.\n",
    "        PSNR_noisy.append(meas.compare_psnr(noiseless, noisy))\n",
    "        SSIM_noisy.append(meas.compare_ssim(noiseless, noisy, multichannel=True))\n",
    "        \n",
    "        # Compute PSNR and SSIM for the median filtered image, append to list.\n",
    "        PSNR_median_filtered.append(meas.compare_psnr(noiseless, median_filtered))\n",
    "        SSIM_median_filtered.append(meas.compare_ssim(noiseless, median_filtered, multichannel=True))"
   ]
  },
  {
   "cell_type": "markdown",
   "metadata": {},
   "source": [
    "# Step 2: Compute average baseline metrics.\n",
    "\n",
    "Compute the average PSNR and SSIM for the unfiltered noisy images (take the PSNR and SSIM measures for each image and average them).  Do the same for the median-filtered noisy images.  Plot a bar graph showing the two mean PSNR values and another showing the two mean SSIM values before and after filtering (see assignment description for sample output)."
   ]
  },
  {
   "cell_type": "code",
   "execution_count": 22,
   "metadata": {},
   "outputs": [
    {
     "data": {
      "text/plain": [
       "(0, 1)"
      ]
     },
     "execution_count": 22,
     "metadata": {},
     "output_type": "execute_result"
    },
    {
     "data": {
      "image/png": "[encoded data removed]",
      "text/plain": [
       "<matplotlib.figure.Figure at 0x11aefd588>"
      ]
     },
     "metadata": {},
     "output_type": "display_data"
    }
   ],
   "source": [
    "import matplotlib.pyplot as plt\n",
    "import numpy as np\n",
    "\n",
    "# Get the averages of each list, above.\n",
    "PSNR_noisy_average = np.mean(np.array(PSNR_noisy))\n",
    "SSIM_noisy_average = np.mean(np.array(SSIM_noisy))\n",
    "PSNR_median_filtered_average = np.mean(np.array(PSNR_median_filtered))\n",
    "SSIM_median_filtered_average = np.mean(np.array(SSIM_median_filtered))\n",
    "\n",
    "# Slap them into an array.\n",
    "data = np.array([PSNR_noisy_average,  PSNR_median_filtered_average, SSIM_noisy_average,\n",
    "                 SSIM_median_filtered_average])\n",
    "\n",
    "# Plot as a bar graph.\n",
    "plt.subplots(1,2,figsize=(12,4))\n",
    "plt.subplot(121)\n",
    "bar_corners = np.arange(0.25, 2, 1)\n",
    "plt.bar(bar_corners, data[0:2], width=.5)\n",
    "plt.xticks(bar_corners, ['PSNR Noisy', 'PSNR Median'])\n",
    "\n",
    "plt.subplot(122)\n",
    "plt.bar(bar_corners, data[2:], width=.5)\n",
    "plt.xticks(bar_corners, ['SSIM Noisy', 'SSIM Median'])\n",
    "plt.ylim((0,1))\n"
   ]
  },
  {
   "cell_type": "markdown",
   "metadata": {},
   "source": [
    "# Step 3:  See if you can do better!\n",
    "\n",
    "Find a better way to denoise the images.  Compute the mean PSNR and SSIM for your denoising method.   Replot the graphs in the previous step with the new results added.\n",
    "\n",
    "_You can use any functions in the python libraries to help you (numpy, scipy, skimage, etc.) but you cannot bring in code from external sources._\n"
   ]
  },
  {
   "cell_type": "code",
   "execution_count": 26,
   "metadata": {
    "collapsed": false
   },
   "outputs": [
    {
     "name": "stderr",
     "output_type": "stream",
     "text": [
      "/Users/mark/anaconda/lib/python3.6/site-packages/skimage/util/dtype.py:122: UserWarning: Possible precision loss when converting from float64 to uint8\n  .format(dtypeobj_in, dtypeobj_out))\n"
     ]
    },
    {
     "data": {
      "text/plain": [
       "(0, 1)"
      ]
     },
     "execution_count": 26,
     "metadata": {},
     "output_type": "execute_result"
    },
    {
     "data": {
      "image/png": "[encoded data removed]",
      "text/plain": [
       "<matplotlib.figure.Figure at 0x113861780>"
      ]
     },
     "metadata": {},
     "output_type": "display_data"
    }
   ],
   "source": [
    "import skimage.color as color\n",
    "import skimage.restoration as rest\n",
    "\n",
    "PSNR_mine = []\n",
    "SSIM_mine = []\n",
    "\n",
    "# for each noisy image...\n",
    "for root, dirs, files in os.walk('asn1/solution/images/noisy-test'):\n",
    "    for filename in files:\n",
    "        fname = os.path.join(root, filename)\n",
    "        if filename == '.DS_Store':\n",
    "            continue\n",
    "            \n",
    "        # median filter it\n",
    "        noisy = io.imread(fname)\n",
    "        median_filtered = vector_median(noisy, 1)  \n",
    "        noiseless = io.imread(os.path.join('asn1/solution/images/noiseless', filename))            \n",
    "            \n",
    "        # Find where the luminance of the filtered image differs a LOT from the noisy image.\n",
    "        diff = np.abs(color.rgb2gray(noisy)-color.rgb2gray(median_filtered))\n",
    "           \n",
    "        x,y = np.where(diff > .45)\n",
    "        \n",
    "        denoised = noisy.copy()\n",
    "        denoised[x,y,:] = median_filtered[x,y,:]        \n",
    "        denoised = util.img_as_ubyte(rest.denoise_tv_bregman(denoised, 15))\n",
    "  \n",
    "        \n",
    "        # Compute PSNR and SSIM for the original noisy image, append to list.\n",
    "        PSNR_mine.append(meas.compare_psnr(noiseless, denoised))\n",
    "        SSIM_mine.append(meas.compare_ssim(noiseless, denoised, multichannel=True))\n",
    "        \n",
    "        io.imsave(os.path.join('asn1', 'solution', 'images', 'denoised',filename), denoised)\n",
    "        \n",
    "PSNR_mine_avg = np.mean(np.array(PSNR_mine))\n",
    "SSIM_mine_avg = np.mean(np.array(SSIM_mine))\n",
    "\n",
    "# Slap them into an array.\n",
    "data = np.array([PSNR_noisy_average, PSNR_median_filtered_average,  PSNR_mine_avg, \n",
    "                 SSIM_noisy_average, SSIM_median_filtered_average, SSIM_mine_avg])\n",
    "\n",
    "# Plot as a bar graph.\n",
    "plt.subplots(1,2, figsize=(12,4))\n",
    "plt.subplot(121)\n",
    "bar_corners = np.arange(0.25, 3, 1)\n",
    "plt.bar(bar_corners, data[0:3], width=.5)\n",
    "plt.xticks(bar_corners, ['PSNR Noisy', 'PSNR Median', 'PSNR Mine'])\n",
    "\n",
    "plt.subplot(122)\n",
    "plt.bar(bar_corners, data[3:], width=.5)\n",
    "plt.xticks(bar_corners, ['SSIM Noisy', 'SSIM Median', 'SSIM Mine'])\n",
    "plt.ylim((0,1))\n"
   ]
  },
  {
   "cell_type": "code",
   "execution_count": 28,
   "metadata": {},
   "outputs": [],
   "source": [
    ""
   ]
  },
  {
   "cell_type": "code",
   "execution_count": null,
   "metadata": {},
   "outputs": [],
   "source": [
    ""
   ]
  }
 ],
 "metadata": {
  "kernelspec": {
   "display_name": "Python 2",
   "language": "python",
   "name": "python2"
  },
  "language_info": {
   "codemirror_mode": {
    "name": "ipython",
    "version": 2
   },
   "file_extension": ".py",
   "mimetype": "text/x-python",
   "name": "python",
   "nbconvert_exporter": "python",
   "pygments_lexer": "ipython2",
   "version": "2.7.6"
  }
 },
 "nbformat": 4,
 "nbformat_minor": 0
}
