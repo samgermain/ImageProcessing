{
 "cells": [
  {
   "cell_type": "code",
   "execution_count": null,
   "metadata": {},
   "outputs": [
    {
     "name": "stderr",
     "output_type": "stream",
     "text": [
      "Using TensorFlow backend.\n"
     ]
    }
   ],
   "source": [
    "from keras.models import load_model\n",
    "from keras.models import Sequential\n",
    "from keras.layers import Conv2D\n",
    "from keras.layers import MaxPooling2D\n",
    "from keras.layers import Flatten\n",
    "from keras.layers import Dense\n",
    "from keras.preprocessing import image\n",
    "from keras import regularizers\n",
    "import os as os\n",
    "import numpy as np\n",
    "import matplotlib.pyplot as plt\n",
    "import glob\n",
    "\n",
    "%matplotlib inline"
   ]
  },
  {
   "cell_type": "markdown",
   "metadata": {},
   "source": [
    " # Step 1: Design the CNN architecture. After designing the architecture, print it in iPython Notebook. \n"
   ]
  },
  {
   "cell_type": "code",
   "execution_count": 3,
   "metadata": {},
   "outputs": [
    {
     "name": "stdout",
     "output_type": "stream",
     "text": [
      "_________________________________________________________________\n",
      "Layer (type)                 Output Shape              Param #   \n",
      "=================================================================\n",
      "conv2d_5 (Conv2D)            (None, 126, 126, 32)      896       \n",
      "_________________________________________________________________\n",
      "max_pooling2d_5 (MaxPooling2 (None, 63, 63, 32)        0         \n",
      "_________________________________________________________________\n",
      "conv2d_6 (Conv2D)            (None, 61, 61, 32)        9248      \n",
      "_________________________________________________________________\n",
      "max_pooling2d_6 (MaxPooling2 (None, 30, 30, 32)        0         \n",
      "_________________________________________________________________\n",
      "conv2d_7 (Conv2D)            (None, 28, 28, 32)        9248      \n",
      "_________________________________________________________________\n",
      "max_pooling2d_7 (MaxPooling2 (None, 14, 14, 32)        0         \n",
      "_________________________________________________________________\n",
      "conv2d_8 (Conv2D)            (None, 12, 12, 32)        9248      \n",
      "_________________________________________________________________\n",
      "max_pooling2d_8 (MaxPooling2 (None, 6, 6, 32)          0         \n",
      "_________________________________________________________________\n",
      "flatten_2 (Flatten)          (None, 1152)              0         \n",
      "_________________________________________________________________\n",
      "dense_3 (Dense)              (None, 128)               147584    \n",
      "_________________________________________________________________\n",
      "dense_4 (Dense)              (None, 1)                 129       \n",
      "=================================================================\n",
      "Total params: 176,353\n",
      "Trainable params: 176,353\n",
      "Non-trainable params: 0\n",
      "_________________________________________________________________\n"
     ]
    }
   ],
   "source": [
    "model = Sequential()\n",
    "\n",
    "#Convolution and Max Pooling layers\n",
    "model.add(Conv2D(32, (3,3), input_shape=(128,128,3), activation=\"relu\"))\n",
    "model.add(MaxPooling2D(pool_size = (2,2)))\n",
    "model.add(Conv2D(32, (3,3), activation = \"relu\") )\n",
    "model.add(MaxPooling2D(pool_size = (2,2)))\n",
    "model.add(Conv2D(32, (3,3), activation = \"relu\") )\n",
    "model.add(MaxPooling2D(pool_size = (2,2)))\n",
    "model.add(Conv2D(32, (3,3), activation = \"relu\") )\n",
    "model.add(MaxPooling2D(pool_size = (2,2)))\n",
    "\n",
    "#Flattening layer.\n",
    "model.add(Flatten ())\n",
    "\n",
    "#Fully Connected Hidden Layer\n",
    "model.add(Dense(units=128, activation='relu',kernel_regularizer=regularizers.l2(0.01)))\n",
    "#Fully Connected Output Layer\n",
    "model.add(Dense(units=1, activation='sigmoid', kernel_regularizer=regularizers.l2(0.01)))\n",
    "model.compile(optimizer='adam', loss='binary_crossentropy', metrics=['accuracy'])\n",
    "#Summary of the Architecture\n",
    "model.summary()\n"
   ]
  },
  {
   "cell_type": "markdown",
   "metadata": {},
   "source": [
    "# Step 2: Load Images and Prepare the Network for training"
   ]
  },
  {
   "cell_type": "code",
   "execution_count": 4,
   "metadata": {},
   "outputs": [
    {
     "name": "stdout",
     "output_type": "stream",
     "text": [
      "Found 25000 images belonging to 2 classes.\n",
      "Found 3200 images belonging to 2 classes.\n"
     ]
    }
   ],
   "source": [
    "#Training dataset generator\n",
    "train_datagen = image.ImageDataGenerator(rescale=1./255, \n",
    "                                   shear_range = 0.2,\n",
    "                                   zoom_range = 0.2,\n",
    "                                   horizontal_flip = True)\n",
    "\n",
    "# Validation dataset generator\n",
    "validation_datagen = image.ImageDataGenerator(rescale = 1./255)\n",
    "\n",
    "# Loading the training set\n",
    "training_set = train_datagen.flow_from_directory('./dataset/training_set',target_size=(128,128), batch_size=32, class_mode='binary')\n",
    "\n",
    "# Loading the validation dataset \n",
    "validation_set = validation_datagen.flow_from_directory('./dataset/validation_set',target_size=(128,128), batch_size=32, class_mode='binary')\n"
   ]
  },
  {
   "cell_type": "markdown",
   "metadata": {},
   "source": [
    "# Step 3: Run the CNN Network"
   ]
  },
  {
   "cell_type": "code",
   "execution_count": 5,
   "metadata": {},
   "outputs": [
    {
     "name": "stdout",
     "output_type": "stream",
     "text": [
      "WARNING:tensorflow:From /student/sjg970/PycharmProjects/untitled/venv/lib64/python3.6/site-packages/tensorflow/python/ops/math_ops.py:3066: to_int32 (from tensorflow.python.ops.math_ops) is deprecated and will be removed in a future version.\n",
      "Instructions for updating:\n",
      "Use tf.cast instead.\n",
      "Epoch 1/40\n",
      "782/782 [==============================] - 393s 503ms/step - loss: 0.7572 - acc: 0.5025 - val_loss: 0.6931 - val_acc: 0.5000\n",
      "Epoch 2/40\n",
      "782/782 [==============================] - 339s 433ms/step - loss: 0.6932 - acc: 0.4926 - val_loss: 0.6931 - val_acc: 0.5000\n",
      "Epoch 3/40\n",
      "782/782 [==============================] - 338s 432ms/step - loss: 0.6932 - acc: 0.5002 - val_loss: 0.6930 - val_acc: 0.5000\n",
      "Epoch 4/40\n",
      "782/782 [==============================] - 338s 432ms/step - loss: 0.6933 - acc: 0.4944 - val_loss: 0.6931 - val_acc: 0.5000\n",
      "Epoch 5/40\n",
      "782/782 [==============================] - 339s 434ms/step - loss: 0.6923 - acc: 0.5185 - val_loss: 0.6843 - val_acc: 0.5600\n",
      "Epoch 6/40\n",
      "782/782 [==============================] - 337s 431ms/step - loss: 0.6836 - acc: 0.5664 - val_loss: 0.6780 - val_acc: 0.5928\n",
      "Epoch 7/40\n",
      "782/782 [==============================] - 337s 431ms/step - loss: 0.6279 - acc: 0.6620 - val_loss: 0.5577 - val_acc: 0.7306\n",
      "Epoch 8/40\n",
      "782/782 [==============================] - 337s 431ms/step - loss: 0.5325 - acc: 0.7476 - val_loss: 0.5054 - val_acc: 0.7522\n",
      "Epoch 9/40\n",
      "782/782 [==============================] - 338s 432ms/step - loss: 0.4796 - acc: 0.7832 - val_loss: 0.4233 - val_acc: 0.8187\n",
      "Epoch 10/40\n",
      "782/782 [==============================] - 338s 432ms/step - loss: 0.4436 - acc: 0.8051 - val_loss: 0.4171 - val_acc: 0.8169\n",
      "Epoch 11/40\n",
      "782/782 [==============================] - 338s 432ms/step - loss: 0.4261 - acc: 0.8137 - val_loss: 0.4022 - val_acc: 0.8234\n",
      "Epoch 12/40\n",
      "782/782 [==============================] - 339s 433ms/step - loss: 0.4036 - acc: 0.8268 - val_loss: 0.3689 - val_acc: 0.8391\n",
      "Epoch 13/40\n",
      "782/782 [==============================] - 341s 436ms/step - loss: 0.3924 - acc: 0.8337 - val_loss: 0.3432 - val_acc: 0.8628\n",
      "Epoch 14/40\n",
      "782/782 [==============================] - 340s 435ms/step - loss: 0.3777 - acc: 0.8404 - val_loss: 0.3244 - val_acc: 0.8675\n",
      "Epoch 15/40\n",
      "782/782 [==============================] - 340s 434ms/step - loss: 0.3692 - acc: 0.8449 - val_loss: 0.3501 - val_acc: 0.8525\n",
      "Epoch 16/40\n",
      "782/782 [==============================] - 340s 434ms/step - loss: 0.3586 - acc: 0.8487 - val_loss: 0.3206 - val_acc: 0.8716\n",
      "Epoch 17/40\n",
      "782/782 [==============================] - 341s 436ms/step - loss: 0.3480 - acc: 0.8562 - val_loss: 0.3113 - val_acc: 0.8762\n",
      "Epoch 18/40\n",
      "782/782 [==============================] - 340s 435ms/step - loss: 0.3384 - acc: 0.8593 - val_loss: 0.2907 - val_acc: 0.8872\n",
      "Epoch 19/40\n",
      "782/782 [==============================] - 339s 434ms/step - loss: 0.3257 - acc: 0.8685 - val_loss: 0.2819 - val_acc: 0.8888\n",
      "Epoch 20/40\n",
      "782/782 [==============================] - 340s 435ms/step - loss: 0.3215 - acc: 0.8693 - val_loss: 0.2751 - val_acc: 0.8928\n",
      "Epoch 21/40\n",
      "782/782 [==============================] - 341s 436ms/step - loss: 0.3117 - acc: 0.8758 - val_loss: 0.2929 - val_acc: 0.8772\n",
      "Epoch 22/40\n",
      "782/782 [==============================] - 341s 437ms/step - loss: 0.3047 - acc: 0.8778 - val_loss: 0.2640 - val_acc: 0.8984\n",
      "Epoch 23/40\n",
      "782/782 [==============================] - 341s 436ms/step - loss: 0.3024 - acc: 0.8787 - val_loss: 0.2657 - val_acc: 0.8947\n",
      "Epoch 24/40\n",
      "782/782 [==============================] - 340s 435ms/step - loss: 0.2964 - acc: 0.8827 - val_loss: 0.2700 - val_acc: 0.8931\n",
      "Epoch 25/40\n",
      "782/782 [==============================] - 340s 435ms/step - loss: 0.2900 - acc: 0.8871 - val_loss: 0.2882 - val_acc: 0.8797\n",
      "Epoch 26/40\n",
      "782/782 [==============================] - 341s 436ms/step - loss: 0.2818 - acc: 0.8887 - val_loss: 0.2604 - val_acc: 0.8984\n",
      "Epoch 27/40\n",
      "782/782 [==============================] - 341s 436ms/step - loss: 0.2775 - acc: 0.8901 - val_loss: 0.2761 - val_acc: 0.8869\n",
      "Epoch 28/40\n",
      "782/782 [==============================] - 340s 435ms/step - loss: 0.2776 - acc: 0.8897 - val_loss: 0.2781 - val_acc: 0.8900\n",
      "Epoch 29/40\n",
      "782/782 [==============================] - 340s 434ms/step - loss: 0.2730 - acc: 0.8910 - val_loss: 0.2462 - val_acc: 0.9022\n",
      "Epoch 30/40\n",
      "782/782 [==============================] - 339s 433ms/step - loss: 0.2715 - acc: 0.8935 - val_loss: 0.2367 - val_acc: 0.9106\n",
      "Epoch 31/40\n",
      "782/782 [==============================] - 340s 434ms/step - loss: 0.2623 - acc: 0.8973 - val_loss: 0.2354 - val_acc: 0.9100\n",
      "Epoch 32/40\n",
      "782/782 [==============================] - 340s 434ms/step - loss: 0.2565 - acc: 0.9001 - val_loss: 0.2245 - val_acc: 0.9122\n",
      "Epoch 33/40\n",
      "782/782 [==============================] - 339s 433ms/step - loss: 0.2499 - acc: 0.9037 - val_loss: 0.2153 - val_acc: 0.9178\n",
      "Epoch 34/40\n",
      "782/782 [==============================] - 339s 434ms/step - loss: 0.2514 - acc: 0.9030 - val_loss: 0.2556 - val_acc: 0.8975\n",
      "Epoch 35/40\n",
      "782/782 [==============================] - 338s 432ms/step - loss: 0.2479 - acc: 0.9044 - val_loss: 0.2214 - val_acc: 0.9184\n",
      "Epoch 36/40\n",
      "782/782 [==============================] - 339s 433ms/step - loss: 0.2461 - acc: 0.9046 - val_loss: 0.2330 - val_acc: 0.9097\n",
      "Epoch 37/40\n",
      "782/782 [==============================] - 338s 432ms/step - loss: 0.2422 - acc: 0.9075 - val_loss: 0.1998 - val_acc: 0.9256\n",
      "Epoch 38/40\n",
      "782/782 [==============================] - 338s 432ms/step - loss: 0.2395 - acc: 0.9080 - val_loss: 0.1967 - val_acc: 0.9281\n",
      "Epoch 39/40\n",
      "782/782 [==============================] - 339s 434ms/step - loss: 0.2414 - acc: 0.9055 - val_loss: 0.2279 - val_acc: 0.9147\n",
      "Epoch 40/40\n",
      "782/782 [==============================] - 340s 435ms/step - loss: 0.2358 - acc: 0.9092 - val_loss: 0.2228 - val_acc: 0.9131\n",
      "Saved model to disk\n"
     ]
    }
   ],
   "source": [
    "# Steps_per_epoch = 718 because there are 23000 training images and a batch size of 32.\n",
    "# To ensure we run through the entire training set in one epoch, we need to run 23000/32 = 718 \n",
    "# different batches.\n",
    "#\n",
    "# Validation_steps = 63 because we have 2000 validation images and a batch size of 32,\n",
    "# To ensure that we run through the entire validation set at the end of each epoch we need\n",
    "# to run 2000/32 = 63 batches.   \n",
    "\n",
    "history = model.fit_generator(training_set, steps_per_epoch=782, epochs=40, validation_data = validation_set, validation_steps=100, verbose=1)\n",
    "model.save('Cat-Dog-128x128-3layer-maxpooling.h5')\n",
    "print(\"Saved model to disk\")"
   ]
  },
  {
   "cell_type": "code",
   "execution_count": null,
   "metadata": {},
   "outputs": [
    {
     "name": "stdout",
     "output_type": "stream",
     "text": [
      "Saved model to disk\n"
     ]
    }
   ],
   "source": [
    "model.save('Cat-Dog-128x128-3layer-maxpooling.h5')\n",
    "model.save_weights('Cat-Dog-128x128-3layer-maxpooling.h5')\n",
    "print(\"Saved model to disk\")"
   ]
  },
  {
   "cell_type": "markdown",
   "metadata": {},
   "source": [
    "# Step 5: Plot the training and Validation Loss/Accuracy"
   ]
  },
  {
   "cell_type": "code",
   "execution_count": 14,
   "metadata": {},
   "outputs": [
    {
     "data": {
      "image/png": "[encoded data removed]",
      "text/plain": [
       "<Figure size 432x288 with 2 Axes>"
      ]
     },
     "metadata": {
      "needs_background": "light"
     },
     "output_type": "display_data"
    },
    {
     "data": {
      "text/plain": [
       "[]"
      ]
     },
     "execution_count": 14,
     "metadata": {},
     "output_type": "execute_result"
    },
    {
     "data": {
      "image/png": "[encoded data removed]",
      "text/plain": [
       "<Figure size 432x288 with 2 Axes>"
      ]
     },
     "metadata": {
      "needs_background": "light"
     },
     "output_type": "display_data"
    }
   ],
   "source": [
    "y1 = history.history['acc']\n",
    "y2 = history.history['val_acc']\n",
    "y3 = history.history['loss']\n",
    "y4 = history.history['val_loss']\n",
    "x = range(0, len(y1))\n",
    "\n",
    "fig, ax1 = plt.subplots()\n",
    "ax2 = ax1.twinx()\n",
    "ax1.plot(x, y1, 'g-')\n",
    "ax2.plot(x, y2, 'b-')\n",
    "\n",
    "ax1.set_xlabel('Epoch')\n",
    "ax1.set_ylabel('Training Accuracy', color='g')\n",
    "ax2.set_ylabel('Validation Accuracy', color='b')\n",
    "plt.show()\n",
    "\n",
    "fig, ax1 = plt.subplots()\n",
    "ax2 = ax1.twinx()\n",
    "ax1.plot(x, y3, 'g-')\n",
    "ax2.plot(x, y4, 'b-')\n",
    "\n",
    "ax1.set_xlabel('Epoch')\n",
    "ax1.set_ylabel('Training Loss Function Value', color='g')\n",
    "ax2.set_ylabel('Validation Loss Function Accuracy', color='b')\n",
    "\n",
    "plt.plot()"
   ]
  },
  {
   "cell_type": "markdown",
   "metadata": {},
   "source": [
    "# Step 6: Predict Dog/Cat using the Trained Model"
   ]
  },
  {
   "cell_type": "code",
   "execution_count": null,
   "metadata": {},
   "outputs": [],
   "source": []
  },
  {
   "cell_type": "code",
   "execution_count": null,
   "metadata": {},
   "outputs": [
    {
     "name": "stdout",
     "output_type": "stream",
     "text": [
      "0.7633333333333333\n"
     ]
    }
   ],
   "source": [
    "model=load_model('Cat-Dog-128x128-3layer-maxpooling.h5')\n",
    "\n",
    "correct = 0\n",
    "wrong = 0\n",
    "images = [os.path.basename(x) for x in glob.glob('dataset/test_set/cats/*.jpg')]\n",
    "length = len(images)\n",
    "for i in range(0,length):\n",
    "    pic = 'dataset/test_set/cats/' + images[i]\n",
    "    test_image=image.load_img(pic, target_size=(128,128))\n",
    "    test_image=image.img_to_array(test_image)\n",
    "    test_image=np.expand_dims(test_image, axis=0)\n",
    "    result=model.predict(test_image)\n",
    "    if (result[0][0] < 0.5):\n",
    "        correct=correct+1\n",
    "    else:\n",
    "        wrong=wrong+1\n",
    "        \n",
    "images = [os.path.basename(x) for x in glob.glob('dataset/test_set/dogs/*.jpg')]\n",
    "length = len(images)\n",
    "for i in range(0,length):\n",
    "    pic = 'dataset/test_set/dogs/' + images[i]\n",
    "    test_image=image.load_img(pic, target_size=(128,128))\n",
    "    test_image=image.img_to_array(test_image)\n",
    "    test_image=np.expand_dims(test_image, axis=0)\n",
    "    result=model.predict(test_image)\n",
    "    if (result[0][0] > 0.5):\n",
    "        correct=correct+1\n",
    "    else:\n",
    "        wrong=wrong+1\n",
    "        \n",
    "print(correct/(correct + wrong))"
   ]
  },
  {
   "cell_type": "code",
   "execution_count": null,
   "metadata": {},
   "outputs": [],
   "source": []
  }
 ],
 "metadata": {
  "kernelspec": {
   "display_name": "Python 3",
   "language": "python",
   "name": "python3"
  },
  "language_info": {
   "codemirror_mode": {
    "name": "ipython",
    "version": 3
   },
   "file_extension": ".py",
   "mimetype": "text/x-python",
   "name": "python",
   "nbconvert_exporter": "python",
   "pygments_lexer": "ipython3",
   "version": "3.6.8"
  }
 },
 "nbformat": 4,
 "nbformat_minor": 1
}
