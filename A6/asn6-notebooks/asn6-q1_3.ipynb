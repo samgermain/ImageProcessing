{
 "cells": [
  {
   "cell_type": "markdown",
   "metadata": {
    "collapsed": true
   },
   "source": [
    "# Import Libraries "
   ]
  },
  {
   "cell_type": "markdown",
   "metadata": {},
   "source": [
    "Import all the required Tensorflow and Keras libraries"
   ]
  },
  {
   "cell_type": "code",
   "execution_count": 1,
   "metadata": {},
   "outputs": [
    {
     "name": "stderr",
     "output_type": "stream",
     "text": [
      "Using TensorFlow backend.\n"
     ]
    }
   ],
   "source": [
    "# These are all the imports we will need.  You shouldn't need anything else.\n",
    "\n",
    "\n",
    "from keras.models import load_model\n",
    "from keras.models import Sequential\n",
    "from keras.layers import Conv2D\n",
    "from keras.layers import MaxPooling2D\n",
    "from keras.layers import Flatten\n",
    "from keras.layers import Dense\n",
    "from keras.preprocessing import image\n",
    "from keras import regularizers\n",
    "import os as os\n",
    "import numpy as np\n",
    "import matplotlib.pyplot as plt\n",
    "import glob\n",
    "\n",
    "%matplotlib inline"
   ]
  },
  {
   "cell_type": "markdown",
   "metadata": {},
   "source": [
    " # Step 1: Design the CNN architecture. After designing the architecture, print it in iPython Notebook. \n"
   ]
  },
  {
   "cell_type": "code",
   "execution_count": 2,
   "metadata": {},
   "outputs": [
    {
     "name": "stdout",
     "output_type": "stream",
     "text": [
      "_________________________________________________________________\n",
      "Layer (type)                 Output Shape              Param #   \n",
      "=================================================================\n",
      "conv2d_1 (Conv2D)            (None, 62, 62, 32)        896       \n",
      "_________________________________________________________________\n",
      "max_pooling2d_1 (MaxPooling2 (None, 31, 31, 32)        0         \n",
      "_________________________________________________________________\n",
      "conv2d_2 (Conv2D)            (None, 29, 29, 32)        9248      \n",
      "_________________________________________________________________\n",
      "max_pooling2d_2 (MaxPooling2 (None, 14, 14, 32)        0         \n",
      "_________________________________________________________________\n",
      "conv2d_3 (Conv2D)            (None, 12, 12, 32)        9248      \n",
      "_________________________________________________________________\n",
      "max_pooling2d_3 (MaxPooling2 (None, 6, 6, 32)          0         \n",
      "_________________________________________________________________\n",
      "conv2d_4 (Conv2D)            (None, 4, 4, 32)          9248      \n",
      "_________________________________________________________________\n",
      "max_pooling2d_4 (MaxPooling2 (None, 2, 2, 32)          0         \n",
      "_________________________________________________________________\n",
      "flatten_1 (Flatten)          (None, 128)               0         \n",
      "_________________________________________________________________\n",
      "dense_1 (Dense)              (None, 128)               16512     \n",
      "_________________________________________________________________\n",
      "dense_2 (Dense)              (None, 1)                 129       \n",
      "=================================================================\n",
      "Total params: 45,281\n",
      "Trainable params: 45,281\n",
      "Non-trainable params: 0\n",
      "_________________________________________________________________\n"
     ]
    }
   ],
   "source": [
    "# WRITE THE CODE DEFINING THE NETWORK ARCHITECTURE HERE (Sec. 2.2 in the assignment PDF)\n",
    "\n",
    "# Initialize a CNN model object using the Sequential() function from keras.models\n",
    "model = Sequential()\n",
    "\n",
    "# Add a convolution layer with 32 feature maps of shape (3,3), and input_shape=(64,64,3).\n",
    "# Use 'relu' for the activation function.\n",
    "\n",
    "#number of feature maps = 32\n",
    "#map dimension = (3,3)\n",
    "#input shape = (64,64,3) 64x64 image\n",
    "model.add(Conv2D(32, (3,3), input_shape=(64,64,3), activation=\"relu\"))\n",
    "\n",
    "# Add a max pooling layer, with a pool_size of (2,2)\n",
    "model.add(MaxPooling2D(pool_size = (2,2)))\n",
    "\n",
    "# Add a three more pairs of convolution and max pooling layers with the same\n",
    "# parameters as above.  Don't specify input_shape for the convolutional layer this time\n",
    "# since it can be inferred from the previous layer.\n",
    "\n",
    "model.add(Conv2D(32, (3,3), activation = \"relu\") )\n",
    "model.add(MaxPooling2D(pool_size = (2,2)))\n",
    "model.add(Conv2D(32, (3,3), activation = \"relu\") )\n",
    "model.add(MaxPooling2D(pool_size = (2,2)))\n",
    "model.add(Conv2D(32, (3,3), activation = \"relu\") )\n",
    "model.add(MaxPooling2D(pool_size = (2,2)))\n",
    "\n",
    "\n",
    "# Add a flattening layer.\n",
    "\n",
    "model.add(Flatten ())\n",
    "\n",
    "# Add a fully connected layer with 128 units and the RELU activation function. This\n",
    "# will be a hidden layer.  Use the L2 kernel regularizer.\n",
    "\n",
    "model.add(Dense(units=128, activation='relu',kernel_regularizer=regularizers.l2(0.01)))\n",
    "model.add(Dense(units=1, activation='sigmoid', kernel_regularizer=regularizers.l2(0.01)))\n",
    "# Add a fully connected layer with 1 unit and the sigmoid activation function.  This\n",
    "# will be the output layer.\n",
    "\n",
    "\n",
    "# Compile the CNN using the compile() method.  Use the 'adam' optimizer, and the \n",
    "# 'binary_crossentropy' loss function.  Use the parameter metrics=['accuracy'].  \n",
    "\n",
    "model.compile(optimizer='adam', loss='binary_crossentropy', metrics=['accuracy'])\n",
    "model.summary()\n",
    "#Print a Summary of the Architecture by calling the summary() method of the model object.\n"
   ]
  },
  {
   "cell_type": "markdown",
   "metadata": {},
   "source": [
    "# Step 2: Load Images and Prepare the Network for training"
   ]
  },
  {
   "cell_type": "code",
   "execution_count": 5,
   "metadata": {},
   "outputs": [
    {
     "name": "stdout",
     "output_type": "stream",
     "text": [
      "Found 23000 images belonging to 2 classes.\n",
      "Found 2000 images belonging to 2 classes.\n"
     ]
    }
   ],
   "source": [
    "#Train and Test ImageDataGenerator code\n",
    "\n",
    "# Here is the training dataset generator.  It uses real-time data augmentation allowing horizontal flips, \n",
    "# and a modest amount of zooming and shearing.\n",
    "train_datagen = image.ImageDataGenerator(rescale=1./255, \n",
    "                                   shear_range = 0.2,\n",
    "                                   zoom_range = 0.2,\n",
    "                                   horizontal_flip = True)\n",
    "\n",
    "# Here is the validation dataset generator.  It doesn't need any data augmentation.\n",
    "validation_datagen = image.ImageDataGenerator(rescale = 1./255)\n",
    "\n",
    "\n",
    "# Load the training set using train_datagen.flow_from_directory().  Use\n",
    "# target_size = (32,32), batch_size=32, and class_mode = 'binary'.\n",
    "#target size (32,32) or (64,64) like the assignment says\n",
    "training_set = train_datagen.flow_from_directory('./dataset_jpg_square/train',target_size=(128,128), batch_size=32, class_mode='binary')\n",
    "\n",
    "# Load the validation dataset using validation_datagen.flow_from_directory(). \n",
    "# Use the same parameters as above.\n",
    "validation_set = validation_datagen.flow_from_directory('./dataset_jpg_square/valid',target_size=(128,128), batch_size=32, class_mode='binary')\n"
   ]
  },
  {
   "cell_type": "markdown",
   "metadata": {},
   "source": [
    "# Step 3: Run the CNN Network"
   ]
  },
  {
   "cell_type": "code",
   "execution_count": 6,
   "metadata": {},
   "outputs": [
    {
     "name": "stdout",
     "output_type": "stream",
     "text": [
      "Epoch 1/40\n",
      "718/718 [==============================] - 419s 583ms/step - loss: 0.7705 - acc: 0.5457 - val_loss: 0.6717 - val_acc: 0.5790\n",
      "Epoch 2/40\n",
      "718/718 [==============================] - 434s 605ms/step - loss: 0.6216 - acc: 0.6617 - val_loss: 0.5613 - val_acc: 0.7245\n",
      "Epoch 3/40\n",
      "718/718 [==============================] - 468s 652ms/step - loss: 0.5652 - acc: 0.7146 - val_loss: 0.5350 - val_acc: 0.7325\n",
      "Epoch 4/40\n",
      "718/718 [==============================] - 377s 525ms/step - loss: 0.5101 - acc: 0.7574 - val_loss: 0.4929 - val_acc: 0.7715\n",
      "Epoch 5/40\n",
      "718/718 [==============================] - 363s 506ms/step - loss: 0.4768 - acc: 0.7796 - val_loss: 0.4444 - val_acc: 0.7880\n",
      "Epoch 6/40\n",
      "718/718 [==============================] - 362s 504ms/step - loss: 0.4500 - acc: 0.7958 - val_loss: 0.4165 - val_acc: 0.8125\n",
      "Epoch 7/40\n",
      "718/718 [==============================] - 363s 505ms/step - loss: 0.4264 - acc: 0.8097 - val_loss: 0.4044 - val_acc: 0.8160\n",
      "Epoch 8/40\n",
      "718/718 [==============================] - 367s 511ms/step - loss: 0.4070 - acc: 0.8222 - val_loss: 0.4124 - val_acc: 0.8175\n",
      "Epoch 9/40\n",
      "718/718 [==============================] - 366s 510ms/step - loss: 0.3956 - acc: 0.8238 - val_loss: 0.3725 - val_acc: 0.8445\n",
      "Epoch 10/40\n",
      "718/718 [==============================] - 365s 508ms/step - loss: 0.3801 - acc: 0.8368 - val_loss: 0.3972 - val_acc: 0.8290\n",
      "Epoch 11/40\n",
      "718/718 [==============================] - 366s 509ms/step - loss: 0.3670 - acc: 0.8399 - val_loss: 0.4690 - val_acc: 0.7880\n",
      "Epoch 12/40\n",
      "718/718 [==============================] - 365s 509ms/step - loss: 0.3642 - acc: 0.8423 - val_loss: 0.3656 - val_acc: 0.8430\n",
      "Epoch 13/40\n",
      "718/718 [==============================] - 366s 510ms/step - loss: 0.3510 - acc: 0.8493 - val_loss: 0.3564 - val_acc: 0.8495\n",
      "Epoch 14/40\n",
      "718/718 [==============================] - 364s 506ms/step - loss: 0.3443 - acc: 0.8525 - val_loss: 0.3525 - val_acc: 0.8535\n",
      "Epoch 15/40\n",
      "718/718 [==============================] - 367s 511ms/step - loss: 0.3391 - acc: 0.8557 - val_loss: 0.3642 - val_acc: 0.8450\n",
      "Epoch 16/40\n",
      "718/718 [==============================] - 366s 510ms/step - loss: 0.3337 - acc: 0.8580 - val_loss: 0.3518 - val_acc: 0.8490\n",
      "Epoch 17/40\n",
      "718/718 [==============================] - 364s 507ms/step - loss: 0.3269 - acc: 0.8627 - val_loss: 0.3332 - val_acc: 0.8630\n",
      "Epoch 18/40\n",
      "718/718 [==============================] - 365s 509ms/step - loss: 0.3213 - acc: 0.8627 - val_loss: 0.3363 - val_acc: 0.8590\n",
      "Epoch 19/40\n",
      "718/718 [==============================] - 362s 504ms/step - loss: 0.3165 - acc: 0.8657 - val_loss: 0.3226 - val_acc: 0.8690\n",
      "Epoch 20/40\n",
      "718/718 [==============================] - 364s 507ms/step - loss: 0.3129 - acc: 0.8677 - val_loss: 0.3508 - val_acc: 0.8560\n",
      "Epoch 21/40\n",
      "718/718 [==============================] - 365s 508ms/step - loss: 0.3041 - acc: 0.8720 - val_loss: 0.3256 - val_acc: 0.8605\n",
      "Epoch 22/40\n",
      "718/718 [==============================] - 368s 512ms/step - loss: 0.3023 - acc: 0.8732 - val_loss: 0.3333 - val_acc: 0.8555\n",
      "Epoch 23/40\n",
      "718/718 [==============================] - 364s 507ms/step - loss: 0.2964 - acc: 0.8787 - val_loss: 0.3289 - val_acc: 0.8705\n",
      "Epoch 24/40\n",
      "718/718 [==============================] - 362s 504ms/step - loss: 0.2928 - acc: 0.8787 - val_loss: 0.3180 - val_acc: 0.8695\n",
      "Epoch 25/40\n",
      "718/718 [==============================] - 365s 508ms/step - loss: 0.2905 - acc: 0.8799 - val_loss: 0.3177 - val_acc: 0.8700\n",
      "Epoch 26/40\n",
      "718/718 [==============================] - 364s 507ms/step - loss: 0.2864 - acc: 0.8824 - val_loss: 0.3146 - val_acc: 0.8705\n",
      "Epoch 27/40\n",
      "718/718 [==============================] - 363s 506ms/step - loss: 0.2886 - acc: 0.8800 - val_loss: 0.3251 - val_acc: 0.8670\n",
      "Epoch 28/40\n",
      "718/718 [==============================] - 371s 516ms/step - loss: 0.2838 - acc: 0.8809 - val_loss: 0.3101 - val_acc: 0.8780\n",
      "Epoch 29/40\n",
      "718/718 [==============================] - 365s 509ms/step - loss: 0.2813 - acc: 0.8851 - val_loss: 0.3215 - val_acc: 0.8775\n",
      "Epoch 30/40\n",
      "718/718 [==============================] - 364s 507ms/step - loss: 0.2776 - acc: 0.8866 - val_loss: 0.3076 - val_acc: 0.8730\n",
      "Epoch 31/40\n",
      "718/718 [==============================] - 366s 510ms/step - loss: 0.2705 - acc: 0.8905 - val_loss: 0.3027 - val_acc: 0.8765\n",
      "Epoch 32/40\n",
      "718/718 [==============================] - 362s 504ms/step - loss: 0.2721 - acc: 0.8875 - val_loss: 0.5199 - val_acc: 0.7880\n",
      "Epoch 33/40\n",
      "718/718 [==============================] - 364s 506ms/step - loss: 0.2648 - acc: 0.8918 - val_loss: 0.3826 - val_acc: 0.8465\n",
      "Epoch 34/40\n",
      "718/718 [==============================] - 363s 505ms/step - loss: 0.2654 - acc: 0.8911 - val_loss: 0.2841 - val_acc: 0.8910\n",
      "Epoch 35/40\n",
      "718/718 [==============================] - 368s 512ms/step - loss: 0.2635 - acc: 0.8922 - val_loss: 0.3191 - val_acc: 0.8745\n",
      "Epoch 36/40\n",
      "718/718 [==============================] - 365s 509ms/step - loss: 0.2580 - acc: 0.8957 - val_loss: 0.2950 - val_acc: 0.8835\n",
      "Epoch 37/40\n",
      "718/718 [==============================] - 362s 504ms/step - loss: 0.2596 - acc: 0.8934 - val_loss: 0.3418 - val_acc: 0.8500\n",
      "Epoch 38/40\n",
      "718/718 [==============================] - 364s 507ms/step - loss: 0.2550 - acc: 0.8949 - val_loss: 0.3009 - val_acc: 0.8675\n",
      "Epoch 39/40\n",
      "718/718 [==============================] - 364s 507ms/step - loss: 0.2532 - acc: 0.8984 - val_loss: 0.3383 - val_acc: 0.8605\n",
      "Epoch 40/40\n",
      "718/718 [==============================] - 363s 505ms/step - loss: 0.2527 - acc: 0.8953 - val_loss: 0.3115 - val_acc: 0.8685\n"
     ]
    }
   ],
   "source": [
    "# Train the CNN using the fit_generator() function of your CNN.  \n",
    "# Use steps_per_epoch=718, epochs=40, validation_data=validation_set,\n",
    "# and validation_steps=63, and verbose=1.\n",
    "#\n",
    "# We use steps_per_epoch = 718 because we have 23000 training images and a batch size of 32.\n",
    "# To ensure we run through the entire training set in one epoch, we need to run 23000/32 = 718 \n",
    "# different batches.\n",
    "#\n",
    "# We use validation_steps = 63 because we have 2000 validation images and again a batch size of 32,\n",
    "# so to ensure that we run through the entire validation set at the end of each epoch we need\n",
    "# to run 2000/32 = 63 batches.  \n",
    "# \n",
    "\n",
    "# You should see the loss function and the accuracy improving quite a bit after each of the \n",
    "# first few epochs.  Then it should slow down.  If you allow it to run for more than 40 epochs \n",
    "# you probably won't see much additional improvement (for me, after 55 epochs it was no better \n",
    "# than it was after 40 epochs).\n",
    "\n",
    "# Expect a long pause at the end of each epoch as it classifies images from the validation set.\n",
    "# You'll find that the validation accuracy does not improve much.  You should be able to get better \n",
    "# results by using larger (128x128) or (256,256) images instead of scaling down to 64x64, \n",
    "# but this takes vastly more time.  You can try if you have time.\n",
    "\n",
    "# This will take a while - maybe 2-3 hours.  On my computer (which is a pretty new\n",
    "# macbook pro) it took about 250 seconds per epoch. \n",
    "\n",
    "#steps per epoch is 32 or 718\n",
    "history = model.fit_generator(training_set, steps_per_epoch=718, epochs=40, validation_data = validation_set, validation_steps=63, verbose=1)"
   ]
  },
  {
   "cell_type": "markdown",
   "metadata": {},
   "source": [
    "# Step 4: Save the model and weights for prediction"
   ]
  },
  {
   "cell_type": "code",
   "execution_count": 8,
   "metadata": {},
   "outputs": [
    {
     "name": "stdout",
     "output_type": "stream",
     "text": [
      "Saved model to disk\n"
     ]
    }
   ],
   "source": [
    "# Save the model using the save() method of the CNN model.\n",
    "\n",
    "model.save('Cat-Dog-64x64-3layer-maxpooling.h5')\n",
    "print(\"Saved model to disk\")"
   ]
  },
  {
   "cell_type": "markdown",
   "metadata": {},
   "source": [
    "# Step 5: Plot the training and Validation Loss/Accuracy"
   ]
  },
  {
   "cell_type": "code",
   "execution_count": 9,
   "metadata": {
    "collapsed": false
   },
   "outputs": [
    {
     "data": {
      "image/png": "[encoded data removed]",
      "text/plain": [
       "<Figure size 432x288 with 2 Axes>"
      ]
     },
     "metadata": {},
     "output_type": "display_data"
    },
    {
     "data": {
      "text/plain": [
       "[]"
      ]
     },
     "execution_count": 9,
     "metadata": {},
     "output_type": "execute_result"
    },
    {
     "data": {
      "image/png": "[encoded data removed]",
      "text/plain": [
       "<Figure size 432x288 with 2 Axes>"
      ]
     },
     "metadata": {},
     "output_type": "display_data"
    }
   ],
   "source": [
    "# Get the history of the training and validation accuracy and loss \n",
    "# from the history object returned by model.fit_generator().  Plot\n",
    "# two graphs as described in the assignment PDF.  \n",
    "#\n",
    "# e.g. history.history['acc'] is an array of the training accuracy for each epoch.\n",
    "\n",
    "y1 = history.history['acc']\n",
    "y2 = history.history['val_acc']\n",
    "y3 = history.history['loss']\n",
    "y4 = history.history['val_loss']\n",
    "x = range(0, len(y1))\n",
    "\n",
    "fig, ax1 = plt.subplots()\n",
    "ax2 = ax1.twinx()\n",
    "ax1.plot(x, y1, 'g-')\n",
    "ax2.plot(x, y2, 'b-')\n",
    "\n",
    "ax1.set_xlabel('X data')\n",
    "ax1.set_ylabel('Y1 data', color='g')\n",
    "ax2.set_ylabel('Y2 data', color='b')\n",
    "plt.show()\n",
    "\n",
    "fig, ax1 = plt.subplots()\n",
    "ax2 = ax1.twinx()\n",
    "ax1.plot(x, y3, 'g-')\n",
    "ax2.plot(x, y4, 'b-')\n",
    "\n",
    "ax1.set_xlabel('X data')\n",
    "ax1.set_ylabel('Y1 data', color='g')\n",
    "ax2.set_ylabel('Y2 data', color='b')\n",
    "\n",
    "plt.plot()"
   ]
  },
  {
   "cell_type": "markdown",
   "metadata": {},
   "source": [
    "# Step 6: Predict Dog/Cat using the Trained Model"
   ]
  },
  {
   "cell_type": "code",
   "execution_count": 11,
   "metadata": {},
   "outputs": [
    {
     "name": "stdout",
     "output_type": "stream",
     "text": [
      "0.8837209302325582\n"
     ]
    }
   ],
   "source": [
    "# Write your code to test the model here.\n",
    "\n",
    "# Start by loading your model from disk that you previously saved so you don't have to run through\n",
    "# the rest of the notebook just to test the model.  Use the load_model() function (already imported \n",
    "# above from keras.models).\n",
    "\n",
    "model=load_model('Cat-Dog-64x64-3layer-maxpooling.h5')\n",
    "#test_image=image.load_img('dataset_jpg_square/test1/cats/12097.jpg', target_size=(64,64))\n",
    "#test_image=image.img_to_array(test_image)\n",
    "#test_image=np.expand_dims(test_image, axis=0)\n",
    "#result=model.predict(test_image)\n",
    "#if (result[0][0] < 0.5):\n",
    "#    print(0)\n",
    "#else:\n",
    "#    print(1)\n",
    "\n",
    "\n",
    "# Now load each of the test images and get a prediction (you'll know the ground truth because\n",
    "# you'll know which folder (cats or dogs) each image comes from.  Determine the correct classification\n",
    "# rate and print it out.  \n",
    "\n",
    "correct = 0\n",
    "wrong = 0\n",
    "images = [os.path.basename(x) for x in glob.glob('cats/*.jpg')]\n",
    "length = len(images)\n",
    "for i in range(0,length):\n",
    "    pic = 'cats/' + images[i]\n",
    "    #print(\"i:\", i, \"images[i]:\", images[i], \"pic: \", pic)\n",
    "    test_image=image.load_img(pic, target_size=(64,64))\n",
    "    test_image=image.img_to_array(test_image)\n",
    "    test_image=np.expand_dims(test_image, axis=0)\n",
    "    result=model.predict(test_image)\n",
    "    if (result[0][0] < 0.5):\n",
    "        correct=correct+1\n",
    "    else:\n",
    "        wrong=wrong+1\n",
    "        \n",
    "images = [os.path.basename(x) for x in glob.glob('dogs/*.jpg')]\n",
    "length = len(images)\n",
    "for i in range(0,length):\n",
    "    pic = 'dogs/' + images[i]\n",
    "    test_image=image.load_img(pic, target_size=(64,64))\n",
    "    test_image=image.img_to_array(test_image)\n",
    "    test_image=np.expand_dims(test_image, axis=0)\n",
    "    result=model.predict(test_image)\n",
    "    if (result[0][0] > 0.5):\n",
    "        correct=correct+1\n",
    "    else:\n",
    "        wrong=wrong+1\n",
    "        \n",
    "print(correct/(correct + wrong))"
   ]
  },
  {
   "cell_type": "code",
   "execution_count": null,
   "metadata": {},
   "outputs": [],
   "source": []
  },
  {
   "cell_type": "code",
   "execution_count": null,
   "metadata": {},
   "outputs": [],
   "source": []
  }
 ],
 "metadata": {
  "kernelspec": {
   "display_name": "Python 3",
   "language": "python",
   "name": "python3"
  },
  "language_info": {
   "codemirror_mode": {
    "name": "ipython",
    "version": 3
   },
   "file_extension": ".py",
   "mimetype": "text/x-python",
   "name": "python",
   "nbconvert_exporter": "python",
   "pygments_lexer": "ipython3",
   "version": "3.6.7"
  }
 },
 "nbformat": 4,
 "nbformat_minor": 1
}
